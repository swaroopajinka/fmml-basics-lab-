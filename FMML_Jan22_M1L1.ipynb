{
  "nbformat": 4,
  "nbformat_minor": 0,
  "metadata": {
    "colab": {
      "name": "FMML_Jan22_M1L1.ipynb",
      "provenance": [],
      "collapsed_sections": [],
      "include_colab_link": true
    },
    "kernelspec": {
      "name": "python3",
      "display_name": "Python 3"
    },
    "language_info": {
      "name": "python"
    }
  },
  "cells": [
    {
      "cell_type": "markdown",
      "metadata": {
        "id": "view-in-github",
        "colab_type": "text"
      },
      "source": [
        "<a href=\"https://colab.research.google.com/github/swaroopajinka/fmml-basics-lab-/blob/main/FMML_Jan22_M1L1.ipynb\" target=\"_parent\"><img src=\"https://colab.research.google.com/assets/colab-badge.svg\" alt=\"Open In Colab\"/></a>"
      ]
    },
    {
      "cell_type": "markdown",
      "source": [
        "# Getting Started\n",
        "\n",
        "FMML Module 1, Lab 1 <br>\n",
        " Module Coordinator: Amit Pandey ( amit.pandey@research.iiit.ac.in ) <br>\n",
        " Release date: Jan 2022 <br>\n",
        "\n"
      ],
      "metadata": {
        "id": "TMVRKfbpTAeR"
      }
    },
    {
      "cell_type": "markdown",
      "source": [
        "### In this notebook we will be covering the very basics of Python and some basic libraries such as Numpy, Matplotlib and Nltk."
      ],
      "metadata": {
        "id": "F-XjWYLBTI0f"
      }
    },
    {
      "cell_type": "markdown",
      "source": [
        "#### Section 1 - Python : Basic data types and indexing."
      ],
      "metadata": {
        "id": "wEyEnIhnTdhB"
      }
    },
    {
      "cell_type": "code",
      "source": [
        "## Strings \n",
        "\n",
        "name = 'First Lab'\n",
        "name_extended = name + 'Module 1'\n",
        "\n",
        "## List\n",
        "name_list = ['First Lab', 3 , '1.1' , 'Lab 1']\n",
        "name_list.extend(['Module 1'])\n",
        "\n",
        "## Tuples\n",
        "\n",
        "name_tuple = ('First Lab', 1)\n",
        "\n",
        "## Sets\n",
        "\n",
        "set_unique = set([1,1,2,3,5,6,'Lab1'])\n",
        "\n",
        "## Dictionary\n",
        "\n",
        "dic = {'1': 'A','2':'B', 'C':3 } ##Observe how key and values can be anything\n",
        "dic['4'] ='New'\n",
        "\n",
        "\n"
      ],
      "metadata": {
        "id": "MfkMO0mlTcep"
      },
      "execution_count": 1,
      "outputs": []
    },
    {
      "cell_type": "code",
      "source": [
        "print(name , name_extended)\n",
        "print(name_list)\n",
        "print(name_tuple)\n",
        "print(set_unique)\n",
        "print(dic)\n"
      ],
      "metadata": {
        "colab": {
          "base_uri": "https://localhost:8080/"
        },
        "id": "e48UIzy_WPHw",
        "outputId": "9d45c56f-4cc6-4452-e046-ef38e60c0b7d"
      },
      "execution_count": 2,
      "outputs": [
        {
          "output_type": "stream",
          "name": "stdout",
          "text": [
            "First Lab First LabModule 1\n",
            "['First Lab', 3, '1.1', 'Lab 1', 'Module 1']\n",
            "('First Lab', 1)\n",
            "{1, 2, 3, 5, 6, 'Lab1'}\n",
            "{'1': 'A', '2': 'B', 'C': 3, '4': 'New'}\n"
          ]
        }
      ]
    },
    {
      "cell_type": "code",
      "source": [
        "print(name[-1]) # last element\n",
        "print(name_tuple[-2]) # second last element, incidently 0th element.\n",
        "print(dic['1'])"
      ],
      "metadata": {
        "colab": {
          "base_uri": "https://localhost:8080/"
        },
        "id": "tTMUwox-SlWq",
        "outputId": "9db64d87-ff45-4df3-d179-1a12fbbde079"
      },
      "execution_count": 3,
      "outputs": [
        {
          "output_type": "stream",
          "name": "stdout",
          "text": [
            "b\n",
            "First Lab\n",
            "A\n"
          ]
        }
      ]
    },
    {
      "cell_type": "markdown",
      "source": [
        "#### Section 2 - Functions"
      ],
      "metadata": {
        "id": "tub_Skp3X1cN"
      }
    },
    {
      "cell_type": "code",
      "source": [
        "def add_new(a,b):\n",
        "  sum = a + b\n",
        "  return sum\n",
        "\n",
        "ans = add_new(1,2)\n",
        "print(ans)"
      ],
      "metadata": {
        "colab": {
          "base_uri": "https://localhost:8080/"
        },
        "id": "K-6Q5T8nX_YF",
        "outputId": "7e7963d9-f3be-4241-b1bb-724ff27c47a5"
      },
      "execution_count": 4,
      "outputs": [
        {
          "output_type": "stream",
          "name": "stdout",
          "text": [
            "3\n"
          ]
        }
      ]
    },
    {
      "cell_type": "code",
      "source": [
        "def check_even_list(num_list):\n",
        "    \n",
        "    even_numbers = []\n",
        "    \n",
        "    # Go through each number\n",
        "    for number in num_list:\n",
        "        # Once we get a \"hit\" on an even number, we append the even number\n",
        "        if number % 2 == 0:\n",
        "            even_numbers.append(number)\n",
        "        # Don't do anything if its not even\n",
        "        else:\n",
        "            pass\n",
        "    # Notice the indentation! This ensures we run through the entire for loop    \n",
        "    return even_numbers"
      ],
      "metadata": {
        "id": "aRa47XCsZLsh"
      },
      "execution_count": 5,
      "outputs": []
    },
    {
      "cell_type": "code",
      "source": [
        "# Question 1 : \n",
        "\n",
        "# Given a list having Names, work_hours, and gender, Write a function to print name of the female worker that worked the most hours. Also how much do should she be paid if the pay is $ 20 per hour.\n",
        "\n",
        "# work_hours = [('Abby',100 , 'F'),('Billy',400, 'M'),('Cassie',800,'F'), ('Maggi',600,'F'),('Alex',500,'M'),('Raj',225,'M'),('Penny',920,'F'),('Ben',300,'M')]"
      ],
      "metadata": {
        "id": "Js0CEiOZZfOv"
      },
      "execution_count": null,
      "outputs": []
    },
    {
      "cell_type": "code",
      "source": [
        "work_hours = [('Abby',100 , 'F'),('Billy',400, 'M'),('Cassie',800,'F'), ('Maggi',600,'F'),('Alex',500,'M'),('Raj',225,'M'),('Penny',920,'F'),('Ben',300,'M')]\n",
        "#max_hrs=max(work_hours)[1]\n",
        "#pay=max_hrs*20\n",
        "#print(pay)\n",
        "print(work_hours[0][1])\n",
        "def namefn(workhrs):\n",
        "  maxm=0\n",
        "  print(type(maxm))\n",
        "  name=\"\"\n",
        "  for i in range(len(workhrs)):\n",
        "    if(workhrs[i][2]=='F'):\n",
        "      if(workhrs[i][1] >int(maxm)):\n",
        "        maxm=workhrs[i][1]\n",
        "        name=workhrs[i][0]\n",
        "  return name,maxm*20\n",
        "namefn(work_hours)\n",
        "#print(x,y)"
      ],
      "metadata": {
        "id": "cP8fZABRW1Cd",
        "outputId": "6d751b84-a1d3-4fae-ec1c-4a02a3eb42ba",
        "colab": {
          "base_uri": "https://localhost:8080/"
        }
      },
      "execution_count": 30,
      "outputs": [
        {
          "output_type": "stream",
          "name": "stdout",
          "text": [
            "100\n",
            "<class 'int'>\n"
          ]
        },
        {
          "output_type": "execute_result",
          "data": {
            "text/plain": [
              "('Penny', 18400)"
            ]
          },
          "metadata": {},
          "execution_count": 30
        }
      ]
    },
    {
      "cell_type": "markdown",
      "source": [
        "#### Section 3 - Libraries and Reading data."
      ],
      "metadata": {
        "id": "T9fGzOAKXhtt"
      }
    },
    {
      "cell_type": "markdown",
      "source": [
        "#### Numpy - One of the most used libraries - supports for large, multi-dimensional arrays and matrices, along with a large collection of high-level mathematical functions to operate on these arrays."
      ],
      "metadata": {
        "id": "TKVyOsBKYZXa"
      }
    },
    {
      "cell_type": "code",
      "source": [
        "import numpy as np"
      ],
      "metadata": {
        "id": "_ODaZ44RXkyg"
      },
      "execution_count": 31,
      "outputs": []
    },
    {
      "cell_type": "code",
      "source": [
        "\n",
        "a = np.array([1,1,2,3,4,5,5,6]) ## np.array converts given list to array\n",
        "\n",
        "b = a>1\n",
        "\n",
        "print(b)\n",
        "print(a[b])\n"
      ],
      "metadata": {
        "colab": {
          "base_uri": "https://localhost:8080/"
        },
        "id": "29vs7Iicavlg",
        "outputId": "11e6aa1e-a3cc-4315-a105-60ccc1783589"
      },
      "execution_count": 32,
      "outputs": [
        {
          "output_type": "stream",
          "name": "stdout",
          "text": [
            "[False False  True  True  True  True  True  True]\n",
            "[2 3 4 5 5 6]\n"
          ]
        }
      ]
    },
    {
      "cell_type": "code",
      "source": [
        "a_range = np.arange(10,19).reshape(3,3)\n",
        "a_range\n"
      ],
      "metadata": {
        "colab": {
          "base_uri": "https://localhost:8080/"
        },
        "id": "MAGJJ1K_jCHN",
        "outputId": "f8f4f738-5652-46c0-8e6b-206369ef5445"
      },
      "execution_count": 33,
      "outputs": [
        {
          "output_type": "execute_result",
          "data": {
            "text/plain": [
              "array([[10, 11, 12],\n",
              "       [13, 14, 15],\n",
              "       [16, 17, 18]])"
            ]
          },
          "metadata": {},
          "execution_count": 33
        }
      ]
    },
    {
      "cell_type": "code",
      "source": [
        "a_range[0] # printing all the columns of first row"
      ],
      "metadata": {
        "colab": {
          "base_uri": "https://localhost:8080/"
        },
        "id": "BpNpo-eDt9Fr",
        "outputId": "ba6321a7-a27b-4ca2-bd2f-ff65b13f9f95"
      },
      "execution_count": 34,
      "outputs": [
        {
          "output_type": "execute_result",
          "data": {
            "text/plain": [
              "array([10, 11, 12])"
            ]
          },
          "metadata": {},
          "execution_count": 34
        }
      ]
    },
    {
      "cell_type": "code",
      "source": [
        "a_range[:,2] #printing all the rows of second column"
      ],
      "metadata": {
        "colab": {
          "base_uri": "https://localhost:8080/"
        },
        "id": "HbDG7M3QuCDQ",
        "outputId": "9bbca3fe-cac5-4676-84eb-977c83485e67"
      },
      "execution_count": 35,
      "outputs": [
        {
          "output_type": "execute_result",
          "data": {
            "text/plain": [
              "array([12, 15, 18])"
            ]
          },
          "metadata": {},
          "execution_count": 35
        }
      ]
    },
    {
      "cell_type": "code",
      "source": [
        "iden = np.eye(3) #idnetity matrix of given size\n",
        "iden"
      ],
      "metadata": {
        "colab": {
          "base_uri": "https://localhost:8080/"
        },
        "id": "RQ7UV_-fjJw3",
        "outputId": "e2873212-cf8f-4a06-86bf-e70610c4022c"
      },
      "execution_count": 36,
      "outputs": [
        {
          "output_type": "execute_result",
          "data": {
            "text/plain": [
              "array([[1., 0., 0.],\n",
              "       [0., 1., 0.],\n",
              "       [0., 0., 1.]])"
            ]
          },
          "metadata": {},
          "execution_count": 36
        }
      ]
    },
    {
      "cell_type": "code",
      "source": [
        "summed = a_range + iden\n",
        "summed\n"
      ],
      "metadata": {
        "colab": {
          "base_uri": "https://localhost:8080/"
        },
        "id": "hYJXXvnwjPfE",
        "outputId": "cb7d9d4f-bcd9-47b9-fdf7-906655d7244f"
      },
      "execution_count": 37,
      "outputs": [
        {
          "output_type": "execute_result",
          "data": {
            "text/plain": [
              "array([[11., 11., 12.],\n",
              "       [13., 15., 15.],\n",
              "       [16., 17., 19.]])"
            ]
          },
          "metadata": {},
          "execution_count": 37
        }
      ]
    },
    {
      "cell_type": "code",
      "source": [
        "mul = a_range@iden ## normal multiplication\n",
        "mul\n"
      ],
      "metadata": {
        "colab": {
          "base_uri": "https://localhost:8080/"
        },
        "id": "VoyeEptRjYRu",
        "outputId": "44b61a00-c0b7-4e8e-ebd7-6a97f9e5b59e"
      },
      "execution_count": 38,
      "outputs": [
        {
          "output_type": "execute_result",
          "data": {
            "text/plain": [
              "array([[10., 11., 12.],\n",
              "       [13., 14., 15.],\n",
              "       [16., 17., 18.]])"
            ]
          },
          "metadata": {},
          "execution_count": 38
        }
      ]
    },
    {
      "cell_type": "code",
      "source": [
        "## point wise multiplication\n",
        "p_mul = a_range * iden\n",
        "p_mul"
      ],
      "metadata": {
        "colab": {
          "base_uri": "https://localhost:8080/"
        },
        "id": "58S3a_YmtAe8",
        "outputId": "abd0a56a-a7bd-48c9-93e1-33b01d38219d"
      },
      "execution_count": 39,
      "outputs": [
        {
          "output_type": "execute_result",
          "data": {
            "text/plain": [
              "array([[10.,  0.,  0.],\n",
              "       [ 0., 14.,  0.],\n",
              "       [ 0.,  0., 18.]])"
            ]
          },
          "metadata": {},
          "execution_count": 39
        }
      ]
    },
    {
      "cell_type": "code",
      "source": [
        "mtx_t = mul.T\n",
        "mtx_t\n"
      ],
      "metadata": {
        "colab": {
          "base_uri": "https://localhost:8080/"
        },
        "id": "HC5uJ03ftJHA",
        "outputId": "ede43d4e-9a3d-40c2-de28-64559998b667"
      },
      "execution_count": 40,
      "outputs": [
        {
          "output_type": "execute_result",
          "data": {
            "text/plain": [
              "array([[10., 13., 16.],\n",
              "       [11., 14., 17.],\n",
              "       [12., 15., 18.]])"
            ]
          },
          "metadata": {},
          "execution_count": 40
        }
      ]
    },
    {
      "cell_type": "code",
      "source": [
        "mtx_t[2] = mtx_t[2]*[1,2,3] ## indexing, point wise multiplication and broadcasting\n",
        "mtx_t"
      ],
      "metadata": {
        "colab": {
          "base_uri": "https://localhost:8080/"
        },
        "id": "ROFhfs2lutat",
        "outputId": "dad37b3c-8fc0-4066-940e-21fd0450c4f2"
      },
      "execution_count": null,
      "outputs": [
        {
          "output_type": "execute_result",
          "data": {
            "text/plain": [
              "array([[10., 13., 16.],\n",
              "       [11., 14., 17.],\n",
              "       [12., 30., 54.]])"
            ]
          },
          "metadata": {},
          "execution_count": 59
        }
      ]
    },
    {
      "cell_type": "code",
      "source": [
        "mtx_t[(mtx_t % 2 == 0)] = 0 ## conveert even elements of the matrix to zero.\n",
        "mtx_t"
      ],
      "metadata": {
        "colab": {
          "base_uri": "https://localhost:8080/"
        },
        "id": "Mh80ju2xvAqL",
        "outputId": "5a6c94ef-35e8-4907-9e21-3f0bc9c6a5df"
      },
      "execution_count": null,
      "outputs": [
        {
          "output_type": "execute_result",
          "data": {
            "text/plain": [
              "array([[ 0., 13.,  0.],\n",
              "       [11.,  0., 17.],\n",
              "       [ 0.,  0.,  0.]])"
            ]
          },
          "metadata": {},
          "execution_count": 61
        }
      ]
    },
    {
      "cell_type": "code",
      "source": [
        "# Question 2 : \n",
        "\n",
        "# a)Create a 5x5 matrix of the following form, \n",
        "\n",
        "# [[1,1]\n",
        "#  [2,2]]\n",
        "\n",
        "#  i.e. each row is increasing and has repetive elements.\n",
        "\n",
        "#  Hint : you can use hstack, vstack  etc.\n",
        "\n",
        " \n",
        "# b) find dot product of the matrix with any matrix. (Figure out the size/ shape of the matrix)\n"
      ],
      "metadata": {
        "id": "yeL7-n4gtUTA"
      },
      "execution_count": null,
      "outputs": []
    },
    {
      "cell_type": "code",
      "source": [
        "from numpy.core.shape_base import hstack\n",
        "#a\n",
        "a=np.array([1])\n",
        "u=np.hstack((a,a,a,a,a))\n",
        "b=np.array([2])\n",
        "c=np.array([3])\n",
        "d=np.array([4])\n",
        "e=np.array([5])\n",
        "v=np.hstack((b,b,b,b,b))\n",
        "x=np.hstack((c,c,c,c,c))\n",
        "y=np.hstack((d,d,d,d,d))\n",
        "z=np.hstack((e,e,e,e,e))\n",
        "op=np.vstack((u,v,x,y,z))\n",
        "print(op)\n",
        "\n",
        "p=np.dot(u,v)\n",
        "print(\"dot product of u,v is \"+str(p))"
      ],
      "metadata": {
        "id": "_L8G0L40hc1k",
        "outputId": "96213b44-54c0-45c8-b467-6129532ffdfb",
        "colab": {
          "base_uri": "https://localhost:8080/"
        }
      },
      "execution_count": 62,
      "outputs": [
        {
          "output_type": "stream",
          "name": "stdout",
          "text": [
            "[[1 1 1 1 1]\n",
            " [2 2 2 2 2]\n",
            " [3 3 3 3 3]\n",
            " [4 4 4 4 4]\n",
            " [5 5 5 5 5]]\n",
            "dot product of u,v is 10\n"
          ]
        }
      ]
    },
    {
      "cell_type": "markdown",
      "source": [
        "#### Reading Files"
      ],
      "metadata": {
        "id": "GzNoCosKdVa2"
      }
    },
    {
      "cell_type": "code",
      "source": [
        "## loading from the google drive\n",
        "from google.colab import drive \n",
        "drive.mount('/content/gdrive')"
      ],
      "metadata": {
        "colab": {
          "base_uri": "https://localhost:8080/"
        },
        "id": "_wCHdrtQwDJe",
        "outputId": "a60dd777-f57f-4b47-ef65-27f1f79c5d8a"
      },
      "execution_count": 41,
      "outputs": [
        {
          "output_type": "stream",
          "name": "stdout",
          "text": [
            "Mounted at /content/gdrive\n"
          ]
        }
      ]
    },
    {
      "cell_type": "code",
      "source": [
        "with open ('/content/sample_data/README.md', 'r') as f:\n",
        "  a = f.readlines()\n",
        "\n",
        "a ## here a is list of elements/strings each splitted at \\n, \\n is also part of the list element. \n"
      ],
      "metadata": {
        "colab": {
          "base_uri": "https://localhost:8080/"
        },
        "id": "c1rzXSJobLku",
        "outputId": "cb0e2540-c1e8-483d-fb2b-25722bc5d6d7"
      },
      "execution_count": 63,
      "outputs": [
        {
          "output_type": "execute_result",
          "data": {
            "text/plain": [
              "['This directory includes a few sample datasets to get you started.\\n',\n",
              " '\\n',\n",
              " '*   `california_housing_data*.csv` is California housing data from the 1990 US\\n',\n",
              " '    Census; more information is available at:\\n',\n",
              " '    https://developers.google.com/machine-learning/crash-course/california-housing-data-description\\n',\n",
              " '\\n',\n",
              " '*   `mnist_*.csv` is a small sample of the\\n',\n",
              " '    [MNIST database](https://en.wikipedia.org/wiki/MNIST_database), which is\\n',\n",
              " '    described at: http://yann.lecun.com/exdb/mnist/\\n',\n",
              " '\\n',\n",
              " '*   `anscombe.json` contains a copy of\\n',\n",
              " \"    [Anscombe's quartet](https://en.wikipedia.org/wiki/Anscombe%27s_quartet); it\\n\",\n",
              " '    was originally described in\\n',\n",
              " '\\n',\n",
              " \"    Anscombe, F. J. (1973). 'Graphs in Statistical Analysis'. American\\n\",\n",
              " '    Statistician. 27 (1): 17-21. JSTOR 2682899.\\n',\n",
              " '\\n',\n",
              " '    and our copy was prepared by the\\n',\n",
              " '    [vega_datasets library](https://github.com/altair-viz/vega_datasets/blob/4f67bdaad10f45e3549984e17e1b3088c731503d/vega_datasets/_data/anscombe.json).\\n']"
            ]
          },
          "metadata": {},
          "execution_count": 63
        }
      ]
    },
    {
      "cell_type": "code",
      "source": [
        "import pandas as pd\n",
        "\n",
        "df = pd.read_csv('/content/sample_data/california_housing_test.csv','r')\n",
        "df.head(10) ## pass as argument number of top elements you wish to print. Head is used to have a quick glance and understand the data."
      ],
      "metadata": {
        "colab": {
          "base_uri": "https://localhost:8080/",
          "height": 363
        },
        "id": "CgXsQFpobVGk",
        "outputId": "5e419017-d2e5-4958-b363-303c8a810365"
      },
      "execution_count": 64,
      "outputs": [
        {
          "output_type": "execute_result",
          "data": {
            "text/html": [
              "\n",
              "  <div id=\"df-925a9f76-581c-4f2e-9b68-581db89a4f08\">\n",
              "    <div class=\"colab-df-container\">\n",
              "      <div>\n",
              "<style scoped>\n",
              "    .dataframe tbody tr th:only-of-type {\n",
              "        vertical-align: middle;\n",
              "    }\n",
              "\n",
              "    .dataframe tbody tr th {\n",
              "        vertical-align: top;\n",
              "    }\n",
              "\n",
              "    .dataframe thead th {\n",
              "        text-align: right;\n",
              "    }\n",
              "</style>\n",
              "<table border=\"1\" class=\"dataframe\">\n",
              "  <thead>\n",
              "    <tr style=\"text-align: right;\">\n",
              "      <th></th>\n",
              "      <th>longitude,\"latitude\",\"housing_median_age\",\"total_</th>\n",
              "      <th>ooms\",\"total_bed</th>\n",
              "      <th>ooms\",\"population\",\"households\",\"median_income\",\"median_house_value\"</th>\n",
              "    </tr>\n",
              "  </thead>\n",
              "  <tbody>\n",
              "    <tr>\n",
              "      <th>0</th>\n",
              "      <td>-122.050000,37.370000,27.000000,3885.000000,66...</td>\n",
              "      <td>NaN</td>\n",
              "      <td>NaN</td>\n",
              "    </tr>\n",
              "    <tr>\n",
              "      <th>1</th>\n",
              "      <td>-118.300000,34.260000,43.000000,1510.000000,31...</td>\n",
              "      <td>NaN</td>\n",
              "      <td>NaN</td>\n",
              "    </tr>\n",
              "    <tr>\n",
              "      <th>2</th>\n",
              "      <td>-117.810000,33.780000,27.000000,3589.000000,50...</td>\n",
              "      <td>NaN</td>\n",
              "      <td>NaN</td>\n",
              "    </tr>\n",
              "    <tr>\n",
              "      <th>3</th>\n",
              "      <td>-118.360000,33.820000,28.000000,67.000000,15.0...</td>\n",
              "      <td>NaN</td>\n",
              "      <td>NaN</td>\n",
              "    </tr>\n",
              "    <tr>\n",
              "      <th>4</th>\n",
              "      <td>-119.670000,36.330000,19.000000,1241.000000,24...</td>\n",
              "      <td>NaN</td>\n",
              "      <td>NaN</td>\n",
              "    </tr>\n",
              "    <tr>\n",
              "      <th>5</th>\n",
              "      <td>-119.560000,36.510000,37.000000,1018.000000,21...</td>\n",
              "      <td>NaN</td>\n",
              "      <td>NaN</td>\n",
              "    </tr>\n",
              "    <tr>\n",
              "      <th>6</th>\n",
              "      <td>-121.430000,38.630000,43.000000,1009.000000,22...</td>\n",
              "      <td>NaN</td>\n",
              "      <td>NaN</td>\n",
              "    </tr>\n",
              "    <tr>\n",
              "      <th>7</th>\n",
              "      <td>-120.650000,35.480000,19.000000,2310.000000,47...</td>\n",
              "      <td>NaN</td>\n",
              "      <td>NaN</td>\n",
              "    </tr>\n",
              "    <tr>\n",
              "      <th>8</th>\n",
              "      <td>-122.840000,38.400000,15.000000,3080.000000,61...</td>\n",
              "      <td>NaN</td>\n",
              "      <td>NaN</td>\n",
              "    </tr>\n",
              "    <tr>\n",
              "      <th>9</th>\n",
              "      <td>-118.020000,34.080000,31.000000,2402.000000,63...</td>\n",
              "      <td>NaN</td>\n",
              "      <td>NaN</td>\n",
              "    </tr>\n",
              "  </tbody>\n",
              "</table>\n",
              "</div>\n",
              "      <button class=\"colab-df-convert\" onclick=\"convertToInteractive('df-925a9f76-581c-4f2e-9b68-581db89a4f08')\"\n",
              "              title=\"Convert this dataframe to an interactive table.\"\n",
              "              style=\"display:none;\">\n",
              "        \n",
              "  <svg xmlns=\"http://www.w3.org/2000/svg\" height=\"24px\"viewBox=\"0 0 24 24\"\n",
              "       width=\"24px\">\n",
              "    <path d=\"M0 0h24v24H0V0z\" fill=\"none\"/>\n",
              "    <path d=\"M18.56 5.44l.94 2.06.94-2.06 2.06-.94-2.06-.94-.94-2.06-.94 2.06-2.06.94zm-11 1L8.5 8.5l.94-2.06 2.06-.94-2.06-.94L8.5 2.5l-.94 2.06-2.06.94zm10 10l.94 2.06.94-2.06 2.06-.94-2.06-.94-.94-2.06-.94 2.06-2.06.94z\"/><path d=\"M17.41 7.96l-1.37-1.37c-.4-.4-.92-.59-1.43-.59-.52 0-1.04.2-1.43.59L10.3 9.45l-7.72 7.72c-.78.78-.78 2.05 0 2.83L4 21.41c.39.39.9.59 1.41.59.51 0 1.02-.2 1.41-.59l7.78-7.78 2.81-2.81c.8-.78.8-2.07 0-2.86zM5.41 20L4 18.59l7.72-7.72 1.47 1.35L5.41 20z\"/>\n",
              "  </svg>\n",
              "      </button>\n",
              "      \n",
              "  <style>\n",
              "    .colab-df-container {\n",
              "      display:flex;\n",
              "      flex-wrap:wrap;\n",
              "      gap: 12px;\n",
              "    }\n",
              "\n",
              "    .colab-df-convert {\n",
              "      background-color: #E8F0FE;\n",
              "      border: none;\n",
              "      border-radius: 50%;\n",
              "      cursor: pointer;\n",
              "      display: none;\n",
              "      fill: #1967D2;\n",
              "      height: 32px;\n",
              "      padding: 0 0 0 0;\n",
              "      width: 32px;\n",
              "    }\n",
              "\n",
              "    .colab-df-convert:hover {\n",
              "      background-color: #E2EBFA;\n",
              "      box-shadow: 0px 1px 2px rgba(60, 64, 67, 0.3), 0px 1px 3px 1px rgba(60, 64, 67, 0.15);\n",
              "      fill: #174EA6;\n",
              "    }\n",
              "\n",
              "    [theme=dark] .colab-df-convert {\n",
              "      background-color: #3B4455;\n",
              "      fill: #D2E3FC;\n",
              "    }\n",
              "\n",
              "    [theme=dark] .colab-df-convert:hover {\n",
              "      background-color: #434B5C;\n",
              "      box-shadow: 0px 1px 3px 1px rgba(0, 0, 0, 0.15);\n",
              "      filter: drop-shadow(0px 1px 2px rgba(0, 0, 0, 0.3));\n",
              "      fill: #FFFFFF;\n",
              "    }\n",
              "  </style>\n",
              "\n",
              "      <script>\n",
              "        const buttonEl =\n",
              "          document.querySelector('#df-925a9f76-581c-4f2e-9b68-581db89a4f08 button.colab-df-convert');\n",
              "        buttonEl.style.display =\n",
              "          google.colab.kernel.accessAllowed ? 'block' : 'none';\n",
              "\n",
              "        async function convertToInteractive(key) {\n",
              "          const element = document.querySelector('#df-925a9f76-581c-4f2e-9b68-581db89a4f08');\n",
              "          const dataTable =\n",
              "            await google.colab.kernel.invokeFunction('convertToInteractive',\n",
              "                                                     [key], {});\n",
              "          if (!dataTable) return;\n",
              "\n",
              "          const docLinkHtml = 'Like what you see? Visit the ' +\n",
              "            '<a target=\"_blank\" href=https://colab.research.google.com/notebooks/data_table.ipynb>data table notebook</a>'\n",
              "            + ' to learn more about interactive tables.';\n",
              "          element.innerHTML = '';\n",
              "          dataTable['output_type'] = 'display_data';\n",
              "          await google.colab.output.renderOutput(dataTable, element);\n",
              "          const docLink = document.createElement('div');\n",
              "          docLink.innerHTML = docLinkHtml;\n",
              "          element.appendChild(docLink);\n",
              "        }\n",
              "      </script>\n",
              "    </div>\n",
              "  </div>\n",
              "  "
            ],
            "text/plain": [
              "   longitude,\"latitude\",\"housing_median_age\",\"total_  ...  ooms\",\"population\",\"households\",\"median_income\",\"median_house_value\"\n",
              "0  -122.050000,37.370000,27.000000,3885.000000,66...  ...                                                NaN                   \n",
              "1  -118.300000,34.260000,43.000000,1510.000000,31...  ...                                                NaN                   \n",
              "2  -117.810000,33.780000,27.000000,3589.000000,50...  ...                                                NaN                   \n",
              "3  -118.360000,33.820000,28.000000,67.000000,15.0...  ...                                                NaN                   \n",
              "4  -119.670000,36.330000,19.000000,1241.000000,24...  ...                                                NaN                   \n",
              "5  -119.560000,36.510000,37.000000,1018.000000,21...  ...                                                NaN                   \n",
              "6  -121.430000,38.630000,43.000000,1009.000000,22...  ...                                                NaN                   \n",
              "7  -120.650000,35.480000,19.000000,2310.000000,47...  ...                                                NaN                   \n",
              "8  -122.840000,38.400000,15.000000,3080.000000,61...  ...                                                NaN                   \n",
              "9  -118.020000,34.080000,31.000000,2402.000000,63...  ...                                                NaN                   \n",
              "\n",
              "[10 rows x 3 columns]"
            ]
          },
          "metadata": {},
          "execution_count": 64
        }
      ]
    },
    {
      "cell_type": "code",
      "source": [
        "len(df.columns), df.columns"
      ],
      "metadata": {
        "colab": {
          "base_uri": "https://localhost:8080/"
        },
        "id": "iMMaPe3gduKb",
        "outputId": "e1546b15-a2a3-4a5c-f510-bb76320a0390"
      },
      "execution_count": 65,
      "outputs": [
        {
          "output_type": "execute_result",
          "data": {
            "text/plain": [
              "(3,\n",
              " Index(['longitude,\"latitude\",\"housing_median_age\",\"total_', 'ooms\",\"total_bed',\n",
              "        'ooms\",\"population\",\"households\",\"median_income\",\"median_house_value\"'],\n",
              "       dtype='object'))"
            ]
          },
          "metadata": {},
          "execution_count": 65
        }
      ]
    },
    {
      "cell_type": "code",
      "source": [
        "df.columns[0]"
      ],
      "metadata": {
        "colab": {
          "base_uri": "https://localhost:8080/",
          "height": 35
        },
        "id": "GT1dA9Q3eRQU",
        "outputId": "b5546ce1-ddac-469a-81f5-4c7052014b5f"
      },
      "execution_count": 66,
      "outputs": [
        {
          "output_type": "execute_result",
          "data": {
            "application/vnd.google.colaboratory.intrinsic+json": {
              "type": "string"
            },
            "text/plain": [
              "'longitude,\"latitude\",\"housing_median_age\",\"total_'"
            ]
          },
          "metadata": {},
          "execution_count": 66
        }
      ]
    },
    {
      "cell_type": "code",
      "source": [
        "df['longitude,\"latitude\",\"housing_median_age\",\"total_'][:5] "
      ],
      "metadata": {
        "colab": {
          "base_uri": "https://localhost:8080/"
        },
        "id": "oEZhq9rBe-Hb",
        "outputId": "74cc332f-cd75-4ce3-a347-1db308d86920"
      },
      "execution_count": 67,
      "outputs": [
        {
          "output_type": "execute_result",
          "data": {
            "text/plain": [
              "0    -122.050000,37.370000,27.000000,3885.000000,66...\n",
              "1    -118.300000,34.260000,43.000000,1510.000000,31...\n",
              "2    -117.810000,33.780000,27.000000,3589.000000,50...\n",
              "3    -118.360000,33.820000,28.000000,67.000000,15.0...\n",
              "4    -119.670000,36.330000,19.000000,1241.000000,24...\n",
              "Name: longitude,\"latitude\",\"housing_median_age\",\"total_, dtype: object"
            ]
          },
          "metadata": {},
          "execution_count": 67
        }
      ]
    },
    {
      "cell_type": "code",
      "source": [
        "df = df.rename(columns = {'longitude,\"latitude\",\"housing_median_age\",\"total_':'Detail1'}) ##rename column names as at times it makes it easier for us"
      ],
      "metadata": {
        "id": "-hpbslfWfwy3"
      },
      "execution_count": 68,
      "outputs": []
    },
    {
      "cell_type": "code",
      "source": [
        "df.head(3)"
      ],
      "metadata": {
        "colab": {
          "base_uri": "https://localhost:8080/",
          "height": 143
        },
        "id": "C0gpXPf1hN5Q",
        "outputId": "47fbd865-7d9c-4d54-c9b1-6e3e9db64eb3"
      },
      "execution_count": null,
      "outputs": [
        {
          "output_type": "execute_result",
          "data": {
            "text/html": [
              "\n",
              "  <div id=\"df-8b4d6646-be74-40bb-b987-8f46c5498910\">\n",
              "    <div class=\"colab-df-container\">\n",
              "      <div>\n",
              "<style scoped>\n",
              "    .dataframe tbody tr th:only-of-type {\n",
              "        vertical-align: middle;\n",
              "    }\n",
              "\n",
              "    .dataframe tbody tr th {\n",
              "        vertical-align: top;\n",
              "    }\n",
              "\n",
              "    .dataframe thead th {\n",
              "        text-align: right;\n",
              "    }\n",
              "</style>\n",
              "<table border=\"1\" class=\"dataframe\">\n",
              "  <thead>\n",
              "    <tr style=\"text-align: right;\">\n",
              "      <th></th>\n",
              "      <th>Detail1</th>\n",
              "      <th>ooms\",\"total_bed</th>\n",
              "      <th>ooms\",\"population\",\"households\",\"median_income\",\"median_house_value\"</th>\n",
              "    </tr>\n",
              "  </thead>\n",
              "  <tbody>\n",
              "    <tr>\n",
              "      <th>0</th>\n",
              "      <td>-122.050000,37.370000,27.000000,3885.000000,66...</td>\n",
              "      <td>NaN</td>\n",
              "      <td>NaN</td>\n",
              "    </tr>\n",
              "    <tr>\n",
              "      <th>1</th>\n",
              "      <td>-118.300000,34.260000,43.000000,1510.000000,31...</td>\n",
              "      <td>NaN</td>\n",
              "      <td>NaN</td>\n",
              "    </tr>\n",
              "    <tr>\n",
              "      <th>2</th>\n",
              "      <td>-117.810000,33.780000,27.000000,3589.000000,50...</td>\n",
              "      <td>NaN</td>\n",
              "      <td>NaN</td>\n",
              "    </tr>\n",
              "  </tbody>\n",
              "</table>\n",
              "</div>\n",
              "      <button class=\"colab-df-convert\" onclick=\"convertToInteractive('df-8b4d6646-be74-40bb-b987-8f46c5498910')\"\n",
              "              title=\"Convert this dataframe to an interactive table.\"\n",
              "              style=\"display:none;\">\n",
              "        \n",
              "  <svg xmlns=\"http://www.w3.org/2000/svg\" height=\"24px\"viewBox=\"0 0 24 24\"\n",
              "       width=\"24px\">\n",
              "    <path d=\"M0 0h24v24H0V0z\" fill=\"none\"/>\n",
              "    <path d=\"M18.56 5.44l.94 2.06.94-2.06 2.06-.94-2.06-.94-.94-2.06-.94 2.06-2.06.94zm-11 1L8.5 8.5l.94-2.06 2.06-.94-2.06-.94L8.5 2.5l-.94 2.06-2.06.94zm10 10l.94 2.06.94-2.06 2.06-.94-2.06-.94-.94-2.06-.94 2.06-2.06.94z\"/><path d=\"M17.41 7.96l-1.37-1.37c-.4-.4-.92-.59-1.43-.59-.52 0-1.04.2-1.43.59L10.3 9.45l-7.72 7.72c-.78.78-.78 2.05 0 2.83L4 21.41c.39.39.9.59 1.41.59.51 0 1.02-.2 1.41-.59l7.78-7.78 2.81-2.81c.8-.78.8-2.07 0-2.86zM5.41 20L4 18.59l7.72-7.72 1.47 1.35L5.41 20z\"/>\n",
              "  </svg>\n",
              "      </button>\n",
              "      \n",
              "  <style>\n",
              "    .colab-df-container {\n",
              "      display:flex;\n",
              "      flex-wrap:wrap;\n",
              "      gap: 12px;\n",
              "    }\n",
              "\n",
              "    .colab-df-convert {\n",
              "      background-color: #E8F0FE;\n",
              "      border: none;\n",
              "      border-radius: 50%;\n",
              "      cursor: pointer;\n",
              "      display: none;\n",
              "      fill: #1967D2;\n",
              "      height: 32px;\n",
              "      padding: 0 0 0 0;\n",
              "      width: 32px;\n",
              "    }\n",
              "\n",
              "    .colab-df-convert:hover {\n",
              "      background-color: #E2EBFA;\n",
              "      box-shadow: 0px 1px 2px rgba(60, 64, 67, 0.3), 0px 1px 3px 1px rgba(60, 64, 67, 0.15);\n",
              "      fill: #174EA6;\n",
              "    }\n",
              "\n",
              "    [theme=dark] .colab-df-convert {\n",
              "      background-color: #3B4455;\n",
              "      fill: #D2E3FC;\n",
              "    }\n",
              "\n",
              "    [theme=dark] .colab-df-convert:hover {\n",
              "      background-color: #434B5C;\n",
              "      box-shadow: 0px 1px 3px 1px rgba(0, 0, 0, 0.15);\n",
              "      filter: drop-shadow(0px 1px 2px rgba(0, 0, 0, 0.3));\n",
              "      fill: #FFFFFF;\n",
              "    }\n",
              "  </style>\n",
              "\n",
              "      <script>\n",
              "        const buttonEl =\n",
              "          document.querySelector('#df-8b4d6646-be74-40bb-b987-8f46c5498910 button.colab-df-convert');\n",
              "        buttonEl.style.display =\n",
              "          google.colab.kernel.accessAllowed ? 'block' : 'none';\n",
              "\n",
              "        async function convertToInteractive(key) {\n",
              "          const element = document.querySelector('#df-8b4d6646-be74-40bb-b987-8f46c5498910');\n",
              "          const dataTable =\n",
              "            await google.colab.kernel.invokeFunction('convertToInteractive',\n",
              "                                                     [key], {});\n",
              "          if (!dataTable) return;\n",
              "\n",
              "          const docLinkHtml = 'Like what you see? Visit the ' +\n",
              "            '<a target=\"_blank\" href=https://colab.research.google.com/notebooks/data_table.ipynb>data table notebook</a>'\n",
              "            + ' to learn more about interactive tables.';\n",
              "          element.innerHTML = '';\n",
              "          dataTable['output_type'] = 'display_data';\n",
              "          await google.colab.output.renderOutput(dataTable, element);\n",
              "          const docLink = document.createElement('div');\n",
              "          docLink.innerHTML = docLinkHtml;\n",
              "          element.appendChild(docLink);\n",
              "        }\n",
              "      </script>\n",
              "    </div>\n",
              "  </div>\n",
              "  "
            ],
            "text/plain": [
              "                                             Detail1  ...  ooms\",\"population\",\"households\",\"median_income\",\"median_house_value\"\n",
              "0  -122.050000,37.370000,27.000000,3885.000000,66...  ...                                                NaN                   \n",
              "1  -118.300000,34.260000,43.000000,1510.000000,31...  ...                                                NaN                   \n",
              "2  -117.810000,33.780000,27.000000,3589.000000,50...  ...                                                NaN                   \n",
              "\n",
              "[3 rows x 3 columns]"
            ]
          },
          "metadata": {},
          "execution_count": 40
        }
      ]
    },
    {
      "cell_type": "code",
      "source": [
        "df.iloc[:5, 0]  ##iloc - index - 0 to 4 rows and first column only."
      ],
      "metadata": {
        "colab": {
          "base_uri": "https://localhost:8080/"
        },
        "id": "A0FFUn-ghP1n",
        "outputId": "693f40bf-ac63-443e-bf71-a4a0f3ef029c"
      },
      "execution_count": 69,
      "outputs": [
        {
          "output_type": "execute_result",
          "data": {
            "text/plain": [
              "0    -122.050000,37.370000,27.000000,3885.000000,66...\n",
              "1    -118.300000,34.260000,43.000000,1510.000000,31...\n",
              "2    -117.810000,33.780000,27.000000,3589.000000,50...\n",
              "3    -118.360000,33.820000,28.000000,67.000000,15.0...\n",
              "4    -119.670000,36.330000,19.000000,1241.000000,24...\n",
              "Name: Detail1, dtype: object"
            ]
          },
          "metadata": {},
          "execution_count": 69
        }
      ]
    },
    {
      "cell_type": "code",
      "source": [
        "import matplotlib\n",
        "from matplotlib import pyplot as plt"
      ],
      "metadata": {
        "id": "oJ7JrZqWioIO"
      },
      "execution_count": 70,
      "outputs": []
    },
    {
      "cell_type": "code",
      "source": [
        "xpoints = np.array([1, 8])\n",
        "ypoints = np.array([3, 10])\n",
        "\n",
        "plt.plot(xpoints, ypoints)\n",
        "plt.show()"
      ],
      "metadata": {
        "colab": {
          "base_uri": "https://localhost:8080/",
          "height": 265
        },
        "id": "tzunFbpUxKAP",
        "outputId": "9564e505-4eaf-4337-e8f4-f94f0faa3604"
      },
      "execution_count": 71,
      "outputs": [
        {
          "output_type": "display_data",
          "data": {
            "image/png": "[encoded data removed]",
            "text/plain": [
              "<Figure size 432x288 with 1 Axes>"
            ]
          },
          "metadata": {
            "needs_background": "light"
          }
        }
      ]
    },
    {
      "cell_type": "code",
      "source": [
        "xpoints = np.array([1, 2, 6, 8])\n",
        "ypoints = np.array([3, 8, 1, 10])\n",
        "\n",
        "plt.plot(xpoints, ypoints)\n",
        "plt.show()"
      ],
      "metadata": {
        "colab": {
          "base_uri": "https://localhost:8080/",
          "height": 265
        },
        "id": "p7l83i5SxW4k",
        "outputId": "065496e2-bd68-4ebd-a768-5f702aed1386"
      },
      "execution_count": 72,
      "outputs": [
        {
          "output_type": "display_data",
          "data": {
            "image/png": "[encoded data removed]",
            "text/plain": [
              "<Figure size 432x288 with 1 Axes>"
            ]
          },
          "metadata": {
            "needs_background": "light"
          }
        }
      ]
    },
    {
      "cell_type": "code",
      "source": [
        "## Question 3 : Upload an image to your google drive, Use plt.imread to read image from the google drive and then print that image using plt.imshow"
      ],
      "metadata": {
        "id": "mC8rNbeKxiaF"
      },
      "execution_count": null,
      "outputs": []
    },
    {
      "cell_type": "code",
      "source": [
        "from google.colab import files\n",
        "files.upload()"
      ],
      "metadata": {
        "id": "b6_Zqwp0oDZ8",
        "outputId": "920ddeb3-d3c4-49f0-f366-1664ed07e9fb",
        "colab": {
          "resources": {
            "http://localhost:8080/nbextensions/google.colab/files.js": {
              "data": "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",
              "ok": true,
              "headers": [
                [
                  "content-type",
                  "application/javascript"
                ]
              ],
              "status": 200,
              "status_text": ""
            }
          },
          "base_uri": "https://localhost:8080/",
          "height": 110
        }
      },
      "execution_count": 74,
      "outputs": [
        {
          "output_type": "display_data",
          "data": {
            "text/html": [
              "\n",
              "     <input type=\"file\" id=\"files-995b899b-85bd-4fad-a356-d0a6f4e73cf6\" name=\"files[]\" multiple disabled\n",
              "        style=\"border:none\" />\n",
              "     <output id=\"result-995b899b-85bd-4fad-a356-d0a6f4e73cf6\">\n",
              "      Upload widget is only available when the cell has been executed in the\n",
              "      current browser session. Please rerun this cell to enable.\n",
              "      </output>\n",
              "      <script src=\"/nbextensions/google.colab/files.js\"></script> "
            ],
            "text/plain": [
              "<IPython.core.display.HTML object>"
            ]
          },
          "metadata": {}
        },
        {
          "output_type": "stream",
          "name": "stdout",
          "text": [
            "Saving laptop.jpeg to laptop.jpeg\n"
          ]
        },
        {
          "output_type": "execute_result",
          "data": {
            "text/plain": [
              "{'laptop.jpeg': b'\\xff\\xd8\\xff\\xe0\\x00\\x10JFIF\\x00\\x01\\x01\\x00\\x00\\x01\\x00\\x01\\x00\\x00\\xff\\xe2\\x02(ICC_PROFILE\\x00\\x01\\x01\\x00\\x00\\x02\\x18\\x00\\x00\\x00\\x00\\x02\\x10\\x00\\x00mntrRGB XYZ \\x00\\x00\\x00\\x00\\x00\\x00\\x00\\x00\\x00\\x00\\x00\\x00acsp\\x00\\x00\\x00\\x00\\x00\\x00\\x00\\x00\\x00\\x00\\x00\\x00\\x00\\x00\\x00\\x00\\x00\\x00\\x00\\x00\\x00\\x00\\x00\\x00\\x00\\x00\\x00\\x01\\x00\\x00\\xf6\\xd6\\x00\\x01\\x00\\x00\\x00\\x00\\xd3-\\x00\\x00\\x00\\x00\\x00\\x00\\x00\\x00\\x00\\x00\\x00\\x00\\x00\\x00\\x00\\x00\\x00\\x00\\x00\\x00\\x00\\x00\\x00\\x00\\x00\\x00\\x00\\x00\\x00\\x00\\x00\\x00\\x00\\x00\\x00\\x00\\x00\\x00\\x00\\x00\\x00\\x00\\x00\\x00\\x00\\x00\\x00\\x00\\x00\\x00\\x00\\tdesc\\x00\\x00\\x00\\xf0\\x00\\x00\\x00trXYZ\\x00\\x00\\x01d\\x00\\x00\\x00\\x14gXYZ\\x00\\x00\\x01x\\x00\\x00\\x00\\x14bXYZ\\x00\\x00\\x01\\x8c\\x00\\x00\\x00\\x14rTRC\\x00\\x00\\x01\\xa0\\x00\\x00\\x00(gTRC\\x00\\x00\\x01\\xa0\\x00\\x00\\x00(bTRC\\x00\\x00\\x01\\xa0\\x00\\x00\\x00(wtpt\\x00\\x00\\x01\\xc8\\x00\\x00\\x00\\x14cprt\\x00\\x00\\x01\\xdc\\x00\\x00\\x00<mluc\\x00\\x00\\x00\\x00\\x00\\x00\\x00\\x01\\x00\\x00\\x00\\x0cenUS\\x00\\x00\\x00X\\x00\\x00\\x00\\x1c\\x00s\\x00R\\x00G\\x00B\\x00\\x00\\x00\\x00\\x00\\x00\\x00\\x00\\x00\\x00\\x00\\x00\\x00\\x00\\x00\\x00\\x00\\x00\\x00\\x00\\x00\\x00\\x00\\x00\\x00\\x00\\x00\\x00\\x00\\x00\\x00\\x00\\x00\\x00\\x00\\x00\\x00\\x00\\x00\\x00\\x00\\x00\\x00\\x00\\x00\\x00\\x00\\x00\\x00\\x00\\x00\\x00\\x00\\x00\\x00\\x00\\x00\\x00\\x00\\x00\\x00\\x00\\x00\\x00\\x00\\x00\\x00\\x00\\x00\\x00\\x00\\x00\\x00\\x00\\x00\\x00\\x00\\x00\\x00\\x00XYZ \\x00\\x00\\x00\\x00\\x00\\x00o\\xa2\\x00\\x008\\xf5\\x00\\x00\\x03\\x90XYZ \\x00\\x00\\x00\\x00\\x00\\x00b\\x99\\x00\\x00\\xb7\\x85\\x00\\x00\\x18\\xdaXYZ \\x00\\x00\\x00\\x00\\x00\\x00$\\xa0\\x00\\x00\\x0f\\x84\\x00\\x00\\xb6\\xcfpara\\x00\\x00\\x00\\x00\\x00\\x04\\x00\\x00\\x00\\x02ff\\x00\\x00\\xf2\\xa7\\x00\\x00\\rY\\x00\\x00\\x13\\xd0\\x00\\x00\\n[\\x00\\x00\\x00\\x00\\x00\\x00\\x00\\x00XYZ \\x00\\x00\\x00\\x00\\x00\\x00\\xf6\\xd6\\x00\\x01\\x00\\x00\\x00\\x00\\xd3-mluc\\x00\\x00\\x00\\x00\\x00\\x00\\x00\\x01\\x00\\x00\\x00\\x0cenUS\\x00\\x00\\x00 \\x00\\x00\\x00\\x1c\\x00G\\x00o\\x00o\\x00g\\x00l\\x00e\\x00 \\x00I\\x00n\\x00c\\x00.\\x00 \\x002\\x000\\x001\\x006\\xff\\xdb\\x00C\\x00\\x03\\x02\\x02\\x02\\x02\\x02\\x03\\x02\\x02\\x02\\x03\\x03\\x03\\x03\\x04\\x06\\x04\\x04\\x04\\x04\\x04\\x08\\x06\\x06\\x05\\x06\\t\\x08\\n\\n\\t\\x08\\t\\t\\n\\x0c\\x0f\\x0c\\n\\x0b\\x0e\\x0b\\t\\t\\r\\x11\\r\\x0e\\x0f\\x10\\x10\\x11\\x10\\n\\x0c\\x12\\x13\\x12\\x10\\x13\\x0f\\x10\\x10\\x10\\xff\\xdb\\x00C\\x01\\x03\\x03\\x03\\x04\\x03\\x04\\x08\\x04\\x04\\x08\\x10\\x0b\\t\\x0b\\x10\\x10\\x10\\x10\\x10\\x10\\x10\\x10\\x10\\x10\\x10\\x10\\x10\\x10\\x10\\x10\\x10\\x10\\x10\\x10\\x10\\x10\\x10\\x10\\x10\\x10\\x10\\x10\\x10\\x10\\x10\\x10\\x10\\x10\\x10\\x10\\x10\\x10\\x10\\x10\\x10\\x10\\x10\\x10\\x10\\x10\\x10\\x10\\x10\\x10\\xff\\xc0\\x00\\x11\\x08\\x00\\xb4\\x01\\x18\\x03\\x01\"\\x00\\x02\\x11\\x01\\x03\\x11\\x01\\xff\\xc4\\x00\\x1e\\x00\\x01\\x00\\x01\\x04\\x03\\x01\\x01\\x00\\x00\\x00\\x00\\x00\\x00\\x00\\x00\\x00\\x00\\t\\x05\\x06\\x07\\x08\\x03\\x04\\n\\x02\\x01\\xff\\xc4\\x00^\\x10\\x00\\x00\\x05\\x01\\x04\\x04\\x06\\x0b\\x07\\x0e\\x0b\\x07\\x05\\x00\\x00\\x00\\x00\\x02\\x03\\x04\\x05\\x06\\x01\\x07\\x12\\x13\\x08\\x14\"#\\x11\\x1523B\\x92\\t\\x16!$CRSbr\\x82\\xa2\\x19%4W\\x93\\xb2\\xd3\\x1715DQTacqst\\x83\\x84\\xc2Adu\\x81\\x91\\x94\\xa3\\xa4\\xb3\\xb4\\xd2&E\\xa1\\xc4\\xf0\\xf2\\xf3ef\\x85\\x95\\xe2\\xff\\xc4\\x00\\x1b\\x01\\x01\\x00\\x02\\x03\\x01\\x01\\x00\\x00\\x00\\x00\\x00\\x00\\x00\\x00\\x00\\x00\\x00\\x03\\x06\\x02\\x04\\x05\\x07\\x01\\xff\\xc4\\x00.\\x11\\x01\\x00\\x02\\x01\\x03\\x02\\x05\\x03\\x04\\x01\\x05\\x00\\x00\\x00\\x00\\x00\\x00\\x02\\x03\\x04\\x01\\x05\\x12\\x13\"\\x06\\x112BR\\x14#r13b\\x82\\xf0!AQSq\\xff\\xda\\x00\\x0c\\x03\\x01\\x00\\x02\\x11\\x03\\x11\\x00?\\x00\\x94\\x80\\x00\\x00\\x00\\x00\\x00\\x00\\x00\\x00\\x00\\x00\\x00\\x00\\x00\\x00\\x00\\x00\\x00\\x00\\x00\\x00\\x00\\x00\\x00\\x00\\x00\\x00\\x00\\x00\\x00\\x00\\x00\\x00\\x00\\x00\\x00\\x00\\x00\\x00\\x00\\x00\\x00\\x00\\x00\\x00\\x00\\x00\\x00\\x00\\x00\\x00\\x01\\xaf\\x1aQ\\xe9\\xa9u\\xda(/\\x13\\x19Y\\xb4\\x98\\x97\\x95\\x99H\\xeb3\\x8f\\x87E\\x15\\x14\\xb1\\x02\\xecg\\xacuNB\\x10\\x98\\xf6?\\xa7\\xee\\x00\\xd8p\\x11\\xeb\\xee\\xcd\\xdcw\\xc4\\xe5o\\xf2\\xac>\\x98~{\\xb3w+\\xf19[\\xfc\\xb3\\x0f\\xa5\\x01!`#\\xd3\\xdd\\x9b\\xb9_\\x89\\xca\\xdf\\xe5\\x98}({\\xb3w+\\xf19[\\xfc\\xb3\\x0f\\xa5\\x01!`#\\xd3\\xdd\\x9b\\xb9_\\x89\\xca\\xdf\\xe5\\x98}({\\xb3w+\\xf19[\\xfc\\xb3\\x0f\\xa5\\x01!`#\\xd3\\xdd\\x9b\\xb9_\\x89\\xca\\xdf\\xe5\\x98}({\\xb3w+\\xf19[\\xfc\\xb3\\x0f\\xa5\\x01!`#\\xd3\\xdd\\x9b\\xb9_\\x89\\xca\\xdf\\xe5\\x98}({\\xb3w+\\xf19[\\xfc\\xb3\\x0f\\xa5\\x01!`#\\xdf\\xdd\\x9c\\xb9o\\x89\\xca\\xe3\\xe5\\x98}0\\xf8\\xf7f\\xeeW\\xe2r\\xb7\\xf9f\\x1fJ\\x02B\\xc0G\\xa7\\xbb7r\\xbf\\x13\\x95\\xbf\\xcb0\\xfaP\\xf7f\\xeeW\\xe2r\\xb7\\xf9f\\x1fJ\\x02B\\xc0G\\xb2}\\x99\\xbb\\x8c\\xb1~\\xfa\\xba\\x8b\\xc0\\xc8\\xfcU\\x8c\\xd5\\xff\\x00\\x98\\x1b\\x91s\\xf7\\xc5@\\xdf\\xf5\\x06\\xc2\\xf1n\\xceV\\xc9xw*\\x1d+sS2n\\x19\\xb8\\')\\x05\\xc8m\\xb2*O\\xde!\\xc9\\x8c\\x87!\\xc0d\\x10\\x00\\x00\\x00\\x00\\x00\\x00\\x00\\x00\\x00\\x00\\x00\\x00\\x00\\x00\\x00\\x00\\x00\\x00\\x00\\x00\\x00\\x00\\x11\\x19\\xd9\\x80\\xa5\\xe5Z\\xde|\\rd\\xe4\\xbd\\xef\\xaa\\xf1b?\\x813\\x93\\x1a^\\xdbw\"\\\\\\xc6\\x92\\xf6R\\xae\\xce\\xda\\xd6\\xe3\\x1cU\\r\\x9a\\x97^\\x86\\xb1E\\xb9\\x9bs0%\\xdf\\x05\\xf6\\x12pO\\xd6\\x80\\x85\\xb3\\x8a\\xd1\\xa5\\xcb(\\xdb\\x80\\xb0\\x14\\xcb{s\\xb9\\xae\\x15\\x93S\\x83\\x93\\x97\\xb4\\xaf#\\xdb\\x14,\\xc1*Z\\x19\\xa9\\x11Z\\xe8\\xabL\\xcaR\\xb7_HT\\x13\\xd0\\xaf\\x9e\\xc2M\\xac\\xf2\\x05\\xb2\\x8e0#\\x88\\xe8\\x1fl\\x9bf\\xcaU\\xbe3\\xed\\x8c\\xeba4b\\xcc<\\xb0\\xd1\\xfc\\r\\xa2\\xa0\\x1bp\\xe5\\xdbb\\xcd\\x17YE\\xf8K\\xe9*~\\x0f\\xfa\\xe9\\x8a2\\xac-n\\x82\\x0e,\\x93A\\xc5\\xaey\\xdb,W\\x87*\\xdf<L\\xf1\\xe1\\xef}\\xa6\\xb1\\xc5z>\\xd1\\xee5~a\\x14`Y\\xa4\\x9a\\xdc\\xbc\\x1bgrL\\x1d\\x01\\x9ca\\xa1\\xee\\xdaVI\\xc4\\x0bZ^\\x97\\xe3x\\xe4\\x92\\xe3H\\xd4Y\\xb6QFy\\xc9\\x90\\xe4\\xc7\\xb1\\xe7\\xf2\\xc4\\xff\\x00o\\xe0\\x83\\xa97\\x9ew\\xb68l\\xe2\\xd6\\xf6:\\xb1~\\x0f\\x08\\x95\\xbf\\\\u\\xb5\\x87?|[\\xfd#\\xd1\\\\\\xe2wkJ\\xc6\\xf1\\xa4\\xf4\\x0c;v\\xf9\\xb9\\x1b\\x98}eL\\xcd\\xbd\\xde\\x04\\x919\\xfa\\x07\\xea\\x0b\\x12\\xae\\xab+8\\x9a\\x8d\\xf4]\\x1bL]\\x84\\xc3\\x17V\\xe7E\\xd8\\xb4\\x89\\x1b8\\xcbE\\xa1\\xce\\xe38\\x980c\\xd6In\\x0c\\x07\\xc6|g\\xc6B\\x11\\x13\\x9cC83\\x85\\x9eh\\x0f\\xd6\\x1c\\xfd\\xf1o\\xf4\\x8a\\xda\\x0c;\\x9a\\xc3\\x9a\\x9e?\\xf3K*\\xe7\\x87\\xd8 \\x9dE\\xeb\\x0b\\xd4j\\xd9\\x07N\\xa2\\xee~=\\xbb\\x8c\\xa5\\xf3\\x91x\\xf1\\xcah\\xb7\\'\\xc23\\x96\\xd5\\xb07\\xdb;dv\\xfc\\xb1\\xcf\\xd0\\xc0|\\xc8\\xc6\\xa4\\xa2\\xe5d\\x9c@\\xc5\\xcfC\\xb8~\\xdb\\xed4V&f\\xc6>\\x87\\xa8~\\xa1\\xfcA44\\xac\\x9d\\x8f9*4j\\xe5\\xc5\\xab\\xdb9\\x1e\\xdc\\xb6\\xf0[\\xdd\\xd6m%\\x9eg \\xe7\\x14\\xb7&\\xc8s\\x89\\xb3\\xa2\\xaf\\xc1\\xe1Q\\xb0\\xf6|\\xe1\\xe8\\xa9+\\xceue\\xf18\\xbb\\x06\\xb1|(7\\x8bNQgy\\xdc\\xd2\\x98\\xf9\\xbc\\x1e\\x81\\x92\\x1d:N\\xf6\\xac-#SV5\\x94\\xa3h\\xf8\\x88W\\xef\\xadE\\xe2\\xdfz\\x13o\\xd7\\xc0M\\x8fPh\\xd9\\x95_R\\x15\\xbe\\xe5\\xeb=\\xba\\xfaq\\xef\\xf5\\xd9\\x1eQ\\xfcQ+\\xd8\\xfd\\xd1\\xd6\\xe84\\x88\\xab*\\xea:\\xf8\\x9c\\xd5\\x0c\\x1c\\xc7\\xc5\\xa57\\x0b\\xc5\\xae\\xacj\\x9a\\xa8$\\xa6\\x07\\x18\\xced\\x8f\\x8c\\xdb\\xd6\\xf8=q\\xbe\\xde\\xe4>\\x89\\xbf}W\\x1f\\xfd\\xf1>\\x84Y5\\x0fe\\x1e\\x8akx\\xf01T\\xbc\\x0f\\x18S._\\xb1BRbIc\\xb6\\xc9h\\xb2\\x99N\\x14\\xc91:\\x04\\xc6}\\xb1\\xbcr\\xf5\\xccL\\x0c\\x8a\\xf1\\xaeb\\xe4{\\xde\\xcf\\x05a,\\'\\xa9\\xb7\\xe6\\t\\xd3h\\xd2\\xa5;\\x1c\\xda\\x126\\xbc{.\\xb9\\xcb\\x9a\\xdf\\x8f\\x9c\\xb5M\\xe2\\x08\\xdb.|\\xb5q\\xe7lgd\\xe0\\xc7\\x81%\\x8f\\x83\\xcc8\\xbfP\\xec\\\\\\xe8\\x91\\x18\\xdfV\\xe2)\\xe5\\x90\\xb73\\x9e\\x90\"\\x8ap\\x9f\\x01yfK\\x1f@\\x9e\\x86\\xdf\\x8eq\\x9c&f\\xe8\\tZ\\x92\"\\xa7\\x94\\xa5\\xdb\\xb8\\x96\\x86W\\xbc\\xa4\\x96E\\xb6b)\\x9fc0\\x8b\\x1c\\xf8\\xc8M\\xb3\\xf2<\\xf1\\x93\\xd9,YH\\xe6\\xee\\x9bd.\\x83\\x84\\xec\\xfer\\x0f\\x85\\x9f\\xc1\\x03Zu\\xdc|\\xad\\xcc_\\xe4\\xea\\x11\\xd1E\\xb2\\x91\\x99\\xb1\\xb4\\x94$\\x92\\x11\\x08\\xb1ij\\n\\xa1\\xcc\\x116\\x89$\\xd8\\x87!\\xd2X\\x98HB\\x1c\\xf81\\x9f\\x96q\\x9c\\xbb\\x0f\\xf7\\xc9\\xda\\xb5\\xf0\\xcf\\xdc\\x84\\x9b\\x9e\\x06\\x15\\xa3\\ru\\x92J\\xad\\xf6\\xfbLf\\xcb!<\\xf6\\xc6[\\x1f\\xe8\\xe4\\x1b\\xbd\\xd9\\r\\xb9\\xa7\\x17\\xaf\\xa3D\\xfbX\\xc6\\xba\\xc4\\xbc\"|u\\x19\\xc2\\x8eb\\x968Go\\x01<\\xf3\\x939/\\xd7\\x08I\\xba\\xdb\\xc4\\x9f\\xba\\xbb\\xc7\\xa6/:\\x08\\xdc\\x0f\\xe9\\xd9\\x06\\xcf\\x90F\\xd5\\xb2\\xecW)Lg@\\xfea\\xc9\\x8c\\x9e\\xb0\\xc4zX\\x01H\\xa5\\xaaX\\n\\xae\\x9a\\x88\\xaa`\\x9d\\xeb1\\x13L[J1[\\x83\\x839\\xba\\xa4\"\\xa9)\\xd41\\x05\\\\\\x00\\x00\\x00\\x00\\x00\\x00\\x00\\x00\\x00\\x00\\x00\\x00\\x00\\x00\\x00\\x00\\x00\\x00\\x00\\x00\\x00X\\xf7\\xc5M4\\xaa\\xae\\xdez\\nI\\xb6\\xb0\\xdfV\\xcf\\xb5\\x1e\\x0f\\xae\\x9a;gO\\xd7!\\x0eO\\\\_\\x03\\x8b/\\xf2\\x80\\xf33]R\\xee\\xa8\\x9a\\xbez\\x8e\\x917\\x0b\\x88I7\\x11\\x8b\\xdbe\\x9c\\x19\\xb9\\'1q\\xfa\\xd6\\x97\\x10\\xde^\\xc4\\xbd\\xe4q]E^\\xdd\\x83\\xa76\\xe4H\\xc6\\'P\\xb2K\\xf83\\x1b\\x9f)\\xc6\\x0f<\\xe4U/\\x91\\x18o\\xb21v\\xdd\\xa0\\xe9\\x1e\\xfd\\xd6\\xff\\x00W\\xa8\\x98$\\xf3\\xf5\\x8d\\xf1\\xb5W\\xaf\\xab\\x91o\\xd7\\x0b#CK\\xc4-\\xdai?AO:s\\xde.e\\x13\\x8a}\\xc3n\\xefWvC76?\\x18\\xa4\\xcd)\\xfd@a4\\xd7E^%+PI7\\x8b\\x8bu\\xac8s\\x99\\x91\\x92\\xf1\\xb2\\xbc\\x8cx\\xf6\\x08\\xb6>\\x87\\x88\"\\xff\\x00K*2\\xf4i\\xed5*k\"\\xaaz\\x82\\x9f\\x8a\\xa8\\xedl\\xf9\\x94\\x92/\\x16O5\\xa1\\x93nEH\\x89\\xcabc\\xb0\\x8e\\nR`\\xe1\\xd8\\xc0O\\xb8$\\x06I\\xe4\\xad+$\\xfe/\\x8f\\x9c7\\xe2\\xe5y\\xe5\\xa4\\x9esy\\x84\\xc1\\xce\\xb4X\\x87\\xe8\\x1f\\x97\\xd0\\xf1\\x0eq\\xc9z\\xf7]A_\\xed\\xdf\\xc8\\x16zU\\xcc{\\xe8\\xe6\\xca3\\x8c\\xaa\\x1e4E#\\xc7\\xa8\\xaa\\x89\\x1bc\\x06\\x02\\x1c\\x99\\xc8%\\x8c\\x9en\\x00\\xbf_(O\\x83^\\xbb(\\xc6\\xb3\\xa9\\x91\\xe8\\xf7-=\\x1b*I\\xf6\\x90\\x91\\x17#z\\x1cO1\\xde\\xb9\\xf4\\xbdH\\x8e\\x07)\\xc8\\xa9\\x96\\xa9\\xce\\x9a\\xc4W\\xed\\xb2\\x13\\x19\\xf1\\xed\\xe7\\x13\\x1e=\\xbe]\\xe8[\\xa0\\xbd7\\x11\\x8c^7mt\\xf4\\xfc\\xf3WNm\\xb5h\\xd8\\x13\\xb9O,\\xed2\\x92\\xdbpLdT\\x8b\\x10\\x9b|\\x83\\x93c\\x01\\x06\\xbe\\\\\\x82\\x12\\xd7\\x07R[r\\x95\\x9c\\x13\\x86\\x12\\x16\\xac\\x94\\xad<\\xb2K\\xe64\\x92Q,\\t*\\xa35\\xba\\t\\x1f`\\xf9\\'>\\xc1\\x0err1\\x8d\\xd1^\\xb4\\xa2\\xaa\\nn}\\xac\\xa5Q\\x1f\\x0e\\xc1\\xb6d[\\xd7\\x9ce\\xabd\\xe3\\xd8&\\x05\\x8f\\x83\\x01\\xf6\\xfa\\xe3\\x0c\\x1b\\xfe\\xa3\\xed\\xd8\\xe9\\xe6S\\x8f]\\x90\\xb2\\xbf\\xdb\\x9b\\x1aR1uEk\\x9ej\\x0e\\xa8\\xbb\\x86\\xce!\\x1f>A\\xeclu7o\\x17\\xe7\\x9f\\x01Y({\\x0f\\xbe\\xd8\\xc0\\xe7m\\x13\\x90\\x87\\xd8\\xf1\\x0e/\\x1a2\\xed+h\\x1a\\x8d\\t)\\x19Z\\x1e\\xc8+\\x15S=\\x9cu(F\\xeb\\xab\\xb0r\\xa3\\x92\\xb9\\x0eL\\xac\\x1b\\x1c\\xb2-\\x8fl\\x9b\\x02\\xc6\\x90\\x97or\\xd4\\xe4\\x1d\\xdd\\xdc\\xb3\\x0e>\\x94\\xa8\\xf3\\x17FF\\xcd\\xe3E|u\\xcc\\xa16\\x156\\x0c;\\x18\\xf0\\x90\\x84\\xeb\\xe6[\\xb6mYD\\xd2\\r\\x9b\\xde,\\xb3\\x07\\xf3\\x99\\x8ag,\\x92x\\x13\\xcb9\\xf1\\x90\\x9c\\x82\\xf2,\\xd9\\xe4\\x0e\\xe6V\\x07J\\xbe\\xa52\\xec\\x97\\xa7\\xe4\\xdc\\xdcvx\\xd1G\\xd5\\xe3K\\xb2r\\xed\\xf9J?%*>\\xef\"\\xa0k\\xf9\\xea\\xf2\\xc9G\\x0b\\xbf\\x99I\\xba+$\\xb6\\x0c\\xb4H\\x92e&\\xc7Oo(\\xa3K\\xf4\\xc7\\xa7\\xea\\x97W\\x05S5\\x81\\x94p\\xdd\\x8d)S\\xa8\\xbc\\xa4j)\\x11\\\\\\xe6\\xea\\xe0\"K\\xe3\\xc1\\x8c\\x986\\xfdC\\x9co\\xec\\x81\\x8ae\\xf1\\x14\\xd6[g\\xdd\\xb2\\xd1\\x8ef\\xee\\xb5\\x9dS%V\\xb5\\x94u\\xef\\rg\\r\\xc5R\\x8c\\xd1\\xc7\\x99\\x8c\\xe9\\x9d,d?C`\\xe2\\x93\\x9f\\x9d\\x89\\x8d\\x9fMZ\\xd9\\x18O\\xe3\\xcb\\xbb\\xbb\\xf8\\xab;\\xacs331\\xb2\\xf4\\xef\\xe1\\xdb/\\xe3\\x14\\x1a\\xd3t=A_:\\xe2\\xc8\\xa6\\xbb\\x8eae\\xbc\\x18\\x9d]\\x18\\xdc!Z\\\\e#)X\\xb6a!=\\x1f\\x18\\x94T\\x9b\\xb5\\x91\"\\xa7Uv\\xdb\\xac\\xcb}<\\x04W\\xd7\\x11\\xbcJr\\x95\\xd1\\xb5\\xb3\\n:\\xa9\\xd68\\xdd\\xb2\\xafX\\xad\\xa9\\xa3\\x9a\\xa3\\xb5\\xd1\\\\\\xe4\\xc7\\x80\\x98\\xf9{\\x07\\xf5\\xc6\\xeehcz\\xf4\\xb5@\\xdaZ\\x98\\x89\\xb1v\\xe8j\\xc9J\"\\x8d\\xb6xBl+\\xeb\\xf3;\\x1eh\\xdb\\x86]\\x9fQ\\xd3\\xb3\\xd0\\xb9[\\x83^\\x98\\x1dZ\\xbd~\\xe6\\xc1U\\xd4\\xd7\\xfb8\\xfb\\xb5x\\xb8\\x8e6\\xcb\\xef-m\\x02Z\\x9eg\\xfd\\xa3Z\\x91\\xd2\\n\\xf2L\\xd5\\x0b#\\'{\\xde\\xdf#\\x10\\x8f\\xb1\\x83\\x19\\x06\\xca\\x9a\\xf2icw\\x1bq\\x83\\x8b-Q471\\xcbt\\xfe\\xb7@aU\\xae\\x8a\\x82\\x95\\x9aY\\xd4d\\xfd@\\xc1\\x07\\x0e\\x94\\xb1$\\xb8\\x85m\\xce3\\xf21\\x9c\\x9c\\x8d\\xbe\\xa7\\\\]\\xfc7\\x97\\x81\\x8d\\xce\\x1b\\x84#\\xfc{y<\\xd3\\xc4\\x98\\x9b\\x9eO\\t\\xed\\xd3\\xfc\\xbb\\xb8\\xa9\\xb45\\xf1V\\xb3\\x95\\x1b\\x18:\\xbey\\x07\\x112V\\xa8\\xc9\\xc6\\xb8\\xcc\\x8d\\xf2\\x97?1\\x80\\xe5//7\\x010\\x1f\\xc7\\x10\\xe9\\xa5\\x05\\xd5\\x9a\\xe6/\\xd6\\xad\\xa0lmj\\x11\\xed\\x9f\\xaa\\xbb\\x1b2\\xb2\\xac\\xb1\\xa2\\xdb\\xd4\\x88O\\x1b\\x01\\ra=2\\x1cM\\xf1tT\\xa5\\\\\\xf0[\\xdbD\\xcfw}\\x9c\\x8a-\\x93S\\xd4>V\\xc8\\xd1\\xde\\xcc5\\xcdqk\\x9ab\\xfa\\xa2\\x9bY\\xdc\\xb7\\x89%\\x15\\xca\\xe0\\xe5\\xe3U\\xb9\\xcdi{\\x9c\\xb28\\xf9R\\x087\\xeb\\xb6\\xec\\x8baf\\xdf\\xfd\\xbbx\\xa7\\xf0\\xdd;\\x96=s\\x86\\xe3\\xfd{\\xb93\\xefb\\x82\\xf9\\xfe\\xa9\\x1a4Y@\\xca\\xba\\xcf\\x97\\xbb\\xa7\\xd6\\xc5\\xdbe\\xaa\\xef5\\x05q*\\xc8\\xfe\\x87<\\x89?G\\x1b\\xb4 \\xdb\\xb1c|\\xd6\\xdd\\xae\\x94\\x0c)\\x897z\\xbcE\\xe26R\\x11~\\x15wz\\xdf:\\xd1OO4\\x99?\\xb4\\t\\xc9\\x1c\\x15\\x90\\x00\\x00\\x00\\x00\\x00\\x00\\x00\\x00\\x00\\x00\\x00\\x00\\x00\\x00\\x00\\x00\\x00\\x00\\x00\\x00\\x00\\x00\\x11\\x93\\xd9\\x8b\\xbb\\x0b\\x1d\\xd30W\\x9e\\xcd\\xa7\\n\\xf0\\xf2v7x\\xb5\\x9f{\\xbcB\\xc4\\xb6\\xfd\\x03\\xb4G\\xfa\\xc0\\x8a\\x0c\\x7f\\x80z\\x12\\xd3\\x82\\xec>\\xaaz<\\xd5\\xb4\\xc3f\\xb6\\xae\\xfd\\xcc[\\x9dO\\x82\\xde\\xeezX\\x1c!\\xd7p\\xd5\\xb1=q\\xe7\\xa4\\x89\\x80\\xf4\\x1fr5\\xbbK\\xdd\\xbazJ\\xf3\\xdd7mj\\xf30\\xed\\x9e\\xbd\\xb6\\xcc\\nYk\\x8c\\x18\\x1c\\x13\\x1f\\x98\\xb1\\x0eOPR\\xafzj*\\xa0\\x8d\\x89\\xa5\\xe2\\xa7\\x18{\\xe1(\\xd9\\x05\\xd1f\\xa9,\\xcaO\\xd5\\xf3\\xcc5W\\xb1\\xbd>\\xd2\\xf24{\\x98\\xba\\xe9IGM\\x9cRs9\\xc8\\xea\\xab\\xe5\\xdb\\xaa;\\xde\\x93\\x19:{\\xe29\\x17\\r\\xf7W\\xd7\\xabv\\x95\\xb4\\x85/rZ;[P\\xc7\\xc36d\\xf9iw\\x91\\xae\\x1e\\xe6\\xa8\\xb2x\\xc9\\x92B*L{d\\xc0|\\x1c\\x8f\\x9f\\xcf\\xdc(\\xcc\\xcb\\xd7\\xe9\\xe1\\xc7\\x84\\xfd\\xca7\\x88q\\xb7m\\xc3Y`c\\xc2=\\x19\\xfa\\xa5\\xcb\\xbb\\xfa\\xb9o\\xa6n\\x02\\xb3\\xd2\\xce\\xcab\\n\\xc7\\r\\xd7\\xbb\\xb8fL\\x96Y\\x15\\xb2\\x93\\xb78\\x8b*t:\\x8e\\x1b\\xf5\\x0e)\\x15\\xad\\xf1\\xca\\xd1S-\\xee\\x99\\xd5\\t\\x1f1\\x11Q\\xb1No\\x8d\\xdeIe(\\x8a\\x8c\\xdfcW%\\x12\\x10\\xf8\\xceM\\\\\\x87\\xe8c\\xc45\\xe6\\xe9/\\xed\\xd4U\\xedU\\xf5ES\\x19\\xac?\\xaa\\xe6{\\xf7\\xff\\x00Np\\xb2\\x8a\\x9c\\xe9\\xed\\xf43\\xb60z\\x1ex\\xc8\\x17\\xb6\\xfa.\\xa9\\x90\\x89\\x89uk\\x88yku\\x84b\\xdd\\xe7\\x13W\\xe1U2$\\xe1\\xa9\\xce}\\x82\\x11\\xc9\\n\\x96\\x03\\x9f\\x90\\xb2D\\xe8\\x1c\\xe3o\\x1fHb\\xe7yX\\xb6\\xc6\\xbb\\'\\x87\\xa5P\\xff\\x00fK\\xd0\\x9fIk\\x1bX\\xde\\xee%e\\x1b\\xb8o\\x1c\\xd7R\\xd4\\xd6\\xdd\\xa8\\xb6\\xad\\xba&I\\xfag\\xc1\\xd0\\xe9\\xe0\\x1bD\\x96\\x8b\\x97s>\\xdb\\x8dd\\xeb*\\x9eb=\\xc5\\x99\\xe8\\xd8\\xf2G4\\x98:\\xb8\\xc4/\\xa4\\xeeN.\\xac\\x96\\x82\\x9cikw\\xfa\\xf2\\x8b[\\x9c\\x8e\\xac\\xa6i9{\\x04\\xe4m\\x89j\\xd16\\xff\\x00;`\\xa4\\x98q\\xf4\\xa6\\xb0\\xdd\\xca[\\xf7\\x9f\\x8c\\xe4f\\x1f\\xcf\\xf1\\xc5\\x8b\\xeb\\xb2\\xb1\\xea\\xb2\\xec9\\xf0\\x9b\\xee\\xd7\\xbd\\xe7l\\xd6t\\xa9\\x9c\\xa3\\xcd\\x9f\\xa9\\x0b\\xbd\\xa5\\xa8\\nJ\\xc8*`\\xaex\\xa5\\xbb\\x95\\x17E%\\x95\\xcc\\xca\\xc7\\xca\\xb0\\x9egLw\\x85Z/\\x87\\x81v\\xa5\\x14\\x85,\\xd5{\\xd8xE\\xd8\\x19\\xfe\\'\\x96\\xbe#\\xc6\\x84gt\\xe3\\xc6Q\\x9fl\\xa3(\\xfb\\xa3\\'rY2\\x9c\\xe7\\xa5\\xf3\\x94\\xa7\\xea\\xe5\\xf2\\xe4\\xd4\\x8d\\'(\\x0e\\x1b\\xda\\x88\\xaa\\x1a\\xba\\xd5\\xf8\\xe9\\xaf<\\x8f\\xc2\\x11P\\x98\\x12W\\xcf!0\\x11\\x1f_\\x18\\xb3.\\x9c\\xd17[}L$\\xf8\\xf6\\xcbPl\\xe9$^\\xac\\xbb\\xc3\\xab\\xb0\\xa9\\x0eUq\\xe39\\xfc\\x11\\xba~!\\x06\\xcai\\'I\\xca\\xd5Wl\\xfeR\\x01\\xaf\\xbe\\xf4\\xe7\\xbe\\x8c|\\xa2\\xc9\\x93\\xe1\\t\\xf51\\x9f\\xd3!\\x04s\\xbe\\xa6\\xe5kJ\\x91\\x84\\\\\\xa4\\\\{\\x86\\xeeU|\\xf5\\t\\x89)#\\xb1f\\xcf\\x065v\\xd6&\\xd9\\x0f\\xb1\\x83\\xfe\\xc3\\x8b\\x0e\\x06\\x0e~\\r\\x14\\xd7\\x9f>s\\xe3\\xdd%\\xa3n\\xbe\\x8c\\x9c;*L;\\x8b\\xbb\\xa5\\x1d\\x14\\xd6\\xb9\\x8c\\xd6s\\xd5\\xcf\\xb75c\\x8ds\\xa8oVV\\x8b\\xaa\\xe5\\x9bA]\\xdcCw\\x11\\xeeTe\\x9dj\\x0b(\\xa2\\xc9\\xe6c\"\\x879NB\\x1b\\x190-\\xeb\\x8c\\xc3\\xa3\\xdda\\x05T]D\\x1b\\x88\\xaa\\xd6\\x06\\xa7\\xb6\\x1d$\\xe1^\\xc8\\xc3\\xbd\\xb1\\xcbu\\\\\"B\\x16\\xdd\\xf6#\\xe3>\\x1bH~_LS\\xef\\x12\\xe0\\xa8j\\xfa\\xa3^\\xa7w(\\xfa=\\xc3\\x96\\xb6\"\\xbd\\xac\\xf5}\\xf6\\x0b0\\x14\\xfb\\xd4\\x8f\\xb7\\x87cc\\xc5 \\xf4\\xcd\\x87+\\x06\\xab\\xfc\\xf7\\x08v<\\xb7\\xc4\\x18\\xf9\\xf6W\\xe5\\xb7\\xcf\\xbd\\x89\\xdc\\xe9)z-[\\xe46\\xed}\\x0e\\r\\xd5\\x9e\\xf6,\\xaf\\xfc\\xd8\\xb6/\\x0eF[K\\xab\\x8d\\xbcK\\xa7\\x9cl\\xc1\\xc4\\xf2\\x0c5\\xe8\\xb5Z\"v\\xf9\\xaa\\x10\\xf8\\x89\\xbb\\xc6~C\\x82#\\xb5\\x8fl\\x87\\x17\\x85q\\xa3\\x85\\xdd\\xd2\\xb4\\xe3\\x89\\xd8\\xb6\\xd3\\xd5;\\xf6\\xea\\xa7\\xc1\\x1c\\x8c\\x89SQd\\xf1\\xed`\\xcans\\x9b\\x016\\xf0\\x10\\x83\\']\\xbd\\xc4\\xdd\\xd4\\x01\\x90\\xa9\\xe0Z\\xcb\\xb6^A\\x86NS\\xc5\\x96\\xccI5\\x89\\xb6\\x9a\\xc4\\xb7\\xa5g\\x8a~A\\xca,\\xbb\\x9e_\\x87\\xac\\xc1\\x9e\\x98\\xd5\\xeb\\xa4\\xfd\\xb2\\xff\\x005V6\\xdc]\\xfa\\xac\\xf8k\\x91gg\\xba/>\\x14\\xf1j\\x18\\x19\\x98\\xea\\x9a\\t\\xdd\\xb12\\xd1\\x8f\\xb3\\xd8*\\xb5\\xb9g+\\xb6\\xea\\x10\\xe5\\xc1\\xe7\\x92\\xdbI\\xcb\\x1e\\x8c\\xeeJ\\xf4c/\\xa2\\xe9i\\x8b\\xcf\\x8c\\xb2\\xcc\\x9a\\x8e-\\xbb\\xd5\\x91\\xb3\\xeb\"\\xbf%t=2,EI\\xea\\x086\\xd3\\xa2\\xec\\xdc\\\\\\xce\\x92\\xd54\\x13\\x98\\xdb8\\xa6mN\\xd8Y%\\x88\\xff\\x00l\\xdamc\\x07\\x89f\\xb0E\\x89\\xe8\\x10\\x83|;\\x0f\\xf7\\xec\\xe6\\xb2\\xa2\\xeb[\\xa5\\x9ew\\xc2\\xfe\\x16MJ\\x8a1+-/\\x06\\xa8\\xf0\\xfd\\xf0\\x9a$\\xf1\\x13p\\\\\\x7f\\x95\\xd8\\xa3\\xbd\\x01\"\\xc0\\x00\\x00\\x00\\x00\\x00\\x00\\x00\\x00\\x00\\x00\\x00\\x00\\x00\\x00\\x00\\x00\\x00\\x00\\x00\\x00\\x00\\x02\\x992\\xcfZ\\x8dp\\xda\\xcb8m\\xe7\\x91\\xf4\\xc9\\xb6Ol\\x84\\x1ep\\xf4\\x8e\\xbb\\xeb.\\xae\\xfdkz\\r\\xa3K[\\xb1\\x87\\x98sc\\x1b?\\x88\\x9c\\xf9\\xadm\\xf9\\x13\\xa4=\\'\\x88U\\xec\\xba]u\\x94\\xb5\\xfeEWmZ\\xd8\\xdd\\n\\xb2+%o\\xc7;fr\\xa5\\xfeYV}P\\x18\\x9bBK\\xd6\\xa8n\\xde\\xf3\\xdc\\xc7A8\\xb7\\x86\\xa3`\\xa3;\\x11U\\x0c\\xcb3\\x91\\xb75/[\\x0em\\x9e\\xb8\\xda\\xea\\x9fJ\\x0b\\xd4\\xa7\\xfe\\xc0\\xd5\\x14\\xbb\\x8f\\xc4\\xac\\xcfy\\xff\\x00\\xec\\xfe`\\x8c\\xb8\\x87\\x86\\x8d\\x93n\\xeb\\x83\\xba\\xddT\\xd6\\xea\\x8c\\xec\\xea\\xb3\\xa5\\xa5\\x9b{\\xfbc\\x8b\\\\ed \\xb77\\xfb\\xf80z\\x83\\xb5\\x83e\\x1d\\t\\xd7d\\x15\\xfd\\xca\\xab4\\xbe\\x16W%\\xb1PIZ\\xd6nZ~\\xdda\\x07\\xf3\\x0e\\x94z\\xbeJ\\xde\\x1f3\\x1e=\\xaf<\\xfey\\x05\\xe2\\x9d\\xeav\\xe9k~\\xda [\\xc80l\\x96~J\\xcb-\\xbe\\xe8e\\xe0!\\xc5\\xb1HQ\\xac\\xebj\\x8f\\xb5\\x87U\\x94\\x04;\\xf9\\x05SF1i{\\x16M\\x9b\\xb5\\x0f\\xe0\\xce\\xe9\"\\x1f(\\xff\\x00[\\x96L\\x1ey\\x06\\xc25\\xecy\\xe9\\x10\\xd7\\xbde)v\\xee\\x1b\\xe5dgF\\xcc6Ww\\xe6c>?`i\\xce\\xba\\xfa\\x9dF\\xdc\\'gM}9\\xb9\\x1b\\xab\\xd2\\x9e\\x89Bv\\x8dr\\xbcE]\\x0c\\x92h2x\\x93\\xb3\\xaa\\x9e\\xc17I\\xb9ES\\x9f\\x11:\\x18\\xc9\\xb7\\xc8\\xe5\\xe0\\xc01\\xfd\\xd5\\xd7u\\xfd\\xc5\\xc8\\xbf\\xbb\\xa9\\xee\\'\\x8f~\\xe5T\\xd6]\\x9c\\xc2\\x1b\\xb5\\xba\\x04]\\x13\\x93\\x96C\\xed\\x93\\xd3(\\xb9)\\xca\\x1e\\xf2tl\\xabx\\x86R\\x06B=\\xc4\\x8e\\xfd\\x04V\\xc1\\x96\\xf12m\\x9f\\x01\\xf9\\x18\\xf0c\\x15\\x1d&\\x99\\xdd]i$\\xc1\\xa4\\xf5Q\\x1f\\x0e\\xfd\\xb4_\\x1aB<\\xc9[30\\xea\\x1f5\\x03\\xe5\\x10\\xf9\\xa9\\x1c\\xf869h\\xec`\\xd8\\xc6A\\xb5,\\xaa\\xfaZ\\xd9\\xc1\\xa3\\xd0\\xb2\\xdf\\xb7\\xcd!WWx\\r~\\xa5\\xd4\\x8c\\xf4\\xa6\\xaf\\x91\"\\xd5$\\x17Y\\x9f6\\x8e\\xec\\xfb\\xc2y\\x9b\\x02\\xe1\\xbc9)X\\xaaJ^~\\x97\\xb1\\x07\\x0f\\xdb0Q\\xea\\x1e\\x115\\xb0me\\xfa\\xe4\\'\\xb64\\xe6\\xf4/>~\\xe0t9\\xb9YF\\x8d\\x9b\\xeb\\xf2*\\xc6\\xa2\\xf5\\x15\\xb7\\x89\\xac\\x99\\xd8\\xb8p}\\xb2y\\xf86\\xc6A\\xd1\\x97I\\xca.\\xf55zY\\xac\\xa7\\x17\\xbfr\\x92\\xbe\\xf3\\xac\\xb17*e\\xe3>O\\x8eM\\x83\\x8f=\\xf05z\\xd9\\xb7_\\xac?\\xed\\x9f\\x1f\\xc7\\x9a\\xc1\\xa5\\xface\\xd3\\xa5\\xb0\\xe7\\xe8dJ\\x92\\xfb\\xa2\\xe0\\xae\\xbe&\\xbae\\x19b\\xeej\\x1bRA\\x9cjJ\\xf0\\xf7\\xd9\\xf1bO\\x1e\\x0e\\x86\\x13\\xf4:\\x03W\\xef^\\xed%\\xa8\\xc6\\x91\\x15\\xe4\\xf4d|E\\x95\\x1b\\x95\\x10{\\x1e\\x8f7\\x1e\\xff\\x00l\\xe4\\xb5\\x1d\\xa3\\xec\\x9d\\x12r1\\xec\\x1c\\x9e\\x80\\xc9r\\x14\\x9c\\xb3IU\\xee\\xc2*\\xc6\\xf6\\xbd\\xa7\\xa7[\\xd4\\xd4\\xfa+-\\x96\\x9b\\xb6\\x87>\\xf5\\x0c}\\x0c\\x1d\\xde\\xa9\\x87[K\\xdb\\xc0\\xa7\\xe5i\\xb7\\x17_)\\x02\\xe3_r\\xabg\\xcc^x=\\x859\\xcf\\x9eO\\\\\\\\\\xb3\\xe7\\x89f\\xd5\\x0f/_w/\\x94x\\xbd?#\\x1a\\x8d\\xbf\\x840!\\xeb\\x97.^\\xee>\\xd5KDz\\x82ZQ\\n\\xb2\\xece25w-S\\x93\\x8b\\xee\\x93\\x9fIL*\\xf8\\x98\\xfc\\t\\xff\\x00T2F\\xb1O\\xca\\xeb\\x1d\\xf5\\x1f\\xdf9\\xb9\\xe8\\xe70r\\xa6fa\\xf0c\\xe7\\xbag99{\\x02?n\\xb2\\xf4\\xea\\xab\\x98\\xbd\\xaaf\\xa7\\x94u\\xefD,\\xa2\\\\i\\x9d\\xf7\\x82\\xdb\\xa7Jz\\x88\\xaas\\xfa\\x82T\\x1d]\\xf4\\xab\\xb9\\x15\\xf8e=\\xe9r\\xaeu\\xb6+$\\xfe\\xd5,\\'\\x99\\x81\\xc1\\x08OPr6\\xdb4\\xb6\\x85C\\x7f\\xaf\\x8eGS\\xe6\\xb4\\xa9\\xc4\\xda\\xc5T\\xad\\xfd\\xeco\\x9f\\xcc.\\xb6I78\\xd4\\xe71\\xa4\\xc4\\x9bg>\\xc7=\\x83\\xae+WW\\xa4\\x14\\x15\\xe9U\\x93\\x14sX\\x19\\x18\\x99\\x08mg\\xb8\\xee\\xd4w\\xc9\\xa2\\xa1R9\\xf0\\x10\\xe796\\xcf\\xc98\\xa2V\\x955\\xd0\\xd0RV\\xc1U\\x0e-\\xb2Z\\xc6\\xc9\\xbd]\\x1bc^=\\xdd\\x9f\\x16\\x0cg!\\x0eO\\x04~\\x9f@Z\\xd17\\xc9pp5*\\xf5\\xdc\\x04\\x15N\\xe2U\\xcb\\rF\\xd5\\x99\\xc6\\xac\\xd9\\xbd\\xa8l\\x1b\\x1e\\x05\\x8eBb\\xd8.\\xd8\\xee\\xd7\\xb3\\xeeY\\xb5\\xc2\\xccxK\\x87\\xe2\\xa9\\xd9\\xbcm\\xb8\\xdc\\xeb\\xc8\\x9cy\\xfe^\\x96\\xba\\xf6c.v\\xc9j&\\n\\xf8\\xa3[\\xdb\\xac\\xc1\\xba\\xc8{o\\x0f\\x07z8\\xc0\\x97\\xb0\\xa9\\x11\\xf9c\\x8d\\x19\\xd0:\\xf8~\\xa2\\xdaP\\xd2\\x15+\\xb7V\\xb7\\x89\\x99u\\xda\\xf4\\xaf\\x05\\xa5\\xcb\\xb5\\xa3\\xbd\\xd63\\xe2\\xe8&\\xb6J\\xdf\\xa9\\x12\\xddx\\x17\\x81@\\xe9K@T\\xd78h\\xb9x\\x87\\x12p\\xee\\x16D\\xd2Y<\\x8eA\\x94.\\x05\\x8f\\xb6\\x8e2-\\x80\\xfe-\\x82\\x07\\xe6a\\xe5\\xa0&\\xe4 $\\xdaZ\\xdd\\xf4s\\xa5Y=F\\xdf\\x04\\xb9\\x14\\xb4\\x86\\'X\\x82<\\x9c;\\xf0\\xe7\\xd3\\xc8\\x87\\t\\xa4\\xc4\\xcb\\xc7\\xcd\\xaf\\xa9\\x8f>oP@0^\\x86W\\xcdm\\xf9\\xe8\\xcfEWn\\xdc\\xd8\\xe2_P\\xb22S\\x87\\xba\\xa6\\xbe\\xdbp\\xaa\\x87\\xf4\\xf0\\xe7z\\n\\x90gA\\xaa\\xdb\\x00\\x00\\x00\\x00\\x00\\x00\\x00\\x00\\x00\\x00\\x00\\x00\\x00\\x00\\x00\\x00\\x00\\x00\\x00\\x00\\x04X\\xf6F\\xaf6\\x80\\xd2\"\\xee*kh\\xd6\\xb2\\x1cas\\xf3,Wz\\xf1dI\\x96\\xed\\xa3\\x95\\xd5d\\xaa\\x88\\x9c\\x87\\xc7\\x83;V\\xe5\\xe0\\xe4\\x10n\\xe6\\x97\\xd7\\xb7m\\xd0\\xdc\\xdc\\xb4\\xa4c\\xbc\\x89\\x89\\xafz\\xe3-\\xb3\\x9cEEI\\xbd_\\xd4K\\x19\\xfd;\\x08\"\\xba\\xe6\\\\4\\x9f\\xabe\\xe87]\\xee\\xc2\\xbd\\xa7$\\xa9\\x7f\\xcc\\xa8\\xb2\\x07U\\xa2\\x9e\\xa2\\xcd\\xd1\\xeb\\x80\\xd3\\x02p\\xd86\\xca\\x99\\xb8\\xea\\xd6\\xbf\\xb88\\x0b\\xd0\\xa3Z\\xd9S\\xa0\\xdd\\',\\xa5#Y%\\xef\\x835\\x1b\\x9f\\x0f#\\xed\\x82`\\xc0}\\x8d\\xbd\\xbeA\\xf9cV]\\xb7p\\xd5C5]\\xbd\\xa8\\xaa\\xda\\xde\\x05R\\xb7\\xeb\\xe3\\xe9\\r\\xf9\\xecY\\xd7\\x1d\\xca\\xd6\\xeb\\xdd:\\xb3\\x9dm6\\xc9\\x1fO\\xbd\\xdc|\\xd6bz/\\x9d~\\x86\\xad\\xf4C\"\\xbe\\xf6\\xa8\\xdd\\xed\\x08\\xeaV\\xb6o\\xaa\\xeb\\x0e5d\\xb3\\xf7<\\xe6g$\\x98<\\xfcx:\\xe2@tb\\xbc\\x1b\\xfe\\xa0jH\\x8a^\\xa8\\xa9\\xe3\\xaa\\x8a\\t\\xb3\\xa7(!\\x9c\\x8a\\xc9<h\\xcdd\\xd2:Y\\'?,\\x88\\x9f\\x192O\\xc8&2r0\\x10\\x97\\xfc\\xe6\\x8c\\xedZ_\\x1b\\xfb\\xd9\\xa5\\xda\\xb7\\x8fo#\\x16\\xf5\\xf4\\xa2>\\x13\\x8c\\xc8\\x81\\xc8\\xddrzg>w\\x98tN~\\x98\\xa2]\\xad7\\xfe\\xc4\\xb7\\xef_+\\xfe!\\xff\\x00\\xd6 \\xbf\\xa9\\xd4\\xfbo\\x94~\\xdf\\xdce\\xed2n\\xfaz\\xf0.W\\xb6\\x8a\\x15\\xae}MF:mTB$\\x8f\\xdby?\\x08C\\xcf\\xcenu\\xb6:g\"#\\\\\\xee\\xb2J\\x95\\x9f\\x9c\\xa4x\\xfe\\xeeP\\xac.\\xb2\\xb3j\\x9cS\\xd45=u\\xc4\\x14\\x99\\xd4&\\xae\\xec\\x98w\\xc9$\\xb1\\x15\\xc0s\\x93\\xcc\\xc7\\xc8 \\xdc\\xbb\\x8fy*\\xea\\x89o\\xc6\\x9fk:U\\x04\\x16\\xf2\\xc9\\xf2\\xfd\\x83\\x9c\\xe4\\xf5\\x05\\x91O\\\\\\x07i7\\xfb1x\\xf0S\\xaeXS\\x0e\\x18g\\xf1>q5=|\\xf8\\xca|\\x18\\xb9\\xa2\\x13l\\xff\\x00\\xae\\xf3\\x073\\xc4\\x9b\\xf5{\\x16\\xd3vM\\x9f\\xae\\xb1\\xf2\\x8f\\xe5\\xed!D\\xe7d5\\xadq\\xde\\xf6\\x8d\\x97\\x7f~\\x97~\\x85\\t&\\xdd\\xc4E\\x91\\xdfa\\x1e3\\xe1\\xf7\\xb9B\\x13(\\xbb\\x16\\xec*L\\x1b\\x07!\\xfd\\x83\\xed\\x88\\xc8\\x90\\xa1*\\xad\\x1bo\\x8e=\\xb4\\xf3G\\x10\\xf3\\xd4\\xec\\xa3iF/\\x1ao\\x1b\\xc8\\xb7!\\xf1\\xecx\\xe9\\x1c\\x849:\\xe2d#\\x1c4u\\x1a\\xdeM\\xad\\xbc(8K=\\x11\\x8eo\\xea\\xe1(\\xbd\"i+i\\x8a\\xcd\\xa5\\xad\\x9f\\xb6\\xdf\\xc5\\xcc#\\xf0\\x88\\xe7\\x1eg\\x8eO\\x1c\\x9d>\\xa1\\xc6\\x9f\\x82\\xb0,\\xda\\xf6:i\\xb3\\xd7\\xacyK\\xf2\\x97s\\xeel\\xeb\\xbf#\\x9a\\xcf\\xbd\\x86\\xae\\xaa\\x08\\xe8\\x8b\\xd0\\xa0\\xf5w\\x0b\\xc3%\\xc6\\x8c\\x96\\xce\\xde;h\\xa91\\x98\\x980m\\x10\\xe4\\xfd\\xff\\x00\\x1cR\\xead\\xe8+\\xe9\\xa4\\x1b\\xdbT\\xc0\\xcb\\xa0\\xc5\\xc2]\\xe5$\\x82Y\\x8b\\xb4S\\xf1\\'K\\x1e\\xde2r\\x0f\\xe2r\\x05J\\xe1i\\xaa\\xd2\\x8b\\xbbf\\x17s^\\xb5\\xf7\\xde\\x94UX\\xb4\\x1e#\\xf0w\\x8c\\x08\\xa66\\x8b\\xa3\\xe6d\\x9c\\x84\\xf4\\xd18\\xa2\\xa0{nZ\\xad]\\xab\\xcbxh\\xb9\\xa79\\xc8\\xad\\xe0\\xe3\\xd7?(\\x87\\xfcQ\\xff\\x00\\xeb\\x90q\\xd8\\xba\\xbe\\x9c\\xf9\\xfb\\'\\xeazn\\xcfd7\\x0c\\x08Q\\xef\\x87\\xa7\\xe5(\\xfb\\xa2\\xd7;\\xc2\\xd1\\xb2\\xb5\\x8a\\x8dq=K\\xc9\\xc7\\xd6\\x11\\r\\xb3>\\x07\\xbax\\x8a~z\\x1d?P\\xf8\\xfc\\xc1\\xbe\\x1a%\\xde\\x19o\"\\xe2\\xe0e\\x1d\\xbb\\xcf\\x7f\\x1a\\x95\\xb0\\xcf\\xb8m\\xdeX\\xe1\\xb6\\xeb\\x84\\xfeq\\xc9\\x80\\xfe\\xb8\\xb7\\x9fE\\xb5\\xf8T_{\\xb8\\xe7\\xf787\\xdf\\x8b?\\x99\\x83`T\\xae\\xee=\\xa6\\xb3-\\x05\\x18\\xe5v\\x0b\\xcdeJk\\x89`\\xccYDp\\x10\\xd8\\xf0`\\xc6s\\xa3\\x80\\x9e\\x81\\x04t\\xe2i\\x8f>u\\xfe\\x8e^\\xf5\\xa7\\xd4Q\\xff\\x00\\x8e\\xe5\\xf4h\\xf5\\x1d{\\xb3,j\\x06\\xd3\\x9cP\\xfd\\xb2Z\\x92\\xea\\xeaz\\xc1\\x16B\\xc5-1I\\x83\\x19p\\x98\\xa71\\xf6\\xbc\\xf3\\x8b\\x19]\\x06\\xa8\\xc9;\\x10\\xe3J\\xc2C\\xf0jH\\xb6o\\xc3\\xec\\x1f\\x10\\xbf\\xe7\\xeb\\xca:\\x01\\xc5?x\\x92U\\x8c\\xbb\\xe6\\x12,8RY\\x9f\\xd8\\xf5S.\\x12\\x9ds\\x93\\xa3\\xce\\xe3\\xc2M\\xbd\\x8f0S\\x99\\xe9\\x17\\x07-x\\xd5\\xdd\\xd8\\xb2\\xa1\\xaa\\x85\\xaaZ21I]N\\xd5\\x11S\\x8c\\x93!\\xf0\\x16\\xc4HU\\x8et\\xb1\\x9f\\x06\\x0c\\xe2\\x13\\x19\\x0fa\\xc8-\\x18\\xbe\"\\xdd\\xb0qa]Wk\\x08{\\x7f\\xcf\\xd5\\xe6\\x17\\xec[fm\\xf3\\xd6\\xca\\xf9\\xcf\\xdc\\xa5\\xd1\\xda+\\xddm\\xd1M0\\xac\\x10\\x9e\\x96\\xb4\\xd1\\xaa\\xf0\\xa0\\xeeFD\\x99|*\\xee\\x8cC\\x90\\xa9\\x10\\x9be9\\x89\\xeb\\x08\\xa7\\xec\\x93\\xdd\\r\\xb7U\\xa4t\\x84\\xa3F\\xf6\\xd9\\x13V%\\xc6h\\xf7|97J\\xfa\\xfc\\x85\\xbf\\\\&\\x06\\xa0\\xbc)\\xe94)\\xb6\\xdfRy\\x85\\xd8T\\x96%c\\xb4W\\xb5D\\xdcG\\xe39Jl\\xd2\\x14\\x9c\\t`\\xe5\\xe39\\xc9\\xc8\\xd8\\xdb\\xe0\\x1aa\\xd9.\\xbb\\xca\\xa2\\xf2.\\x95\\xc5e7Cqs\\x8a\\t\\xd2n\\x19.\\x8d\\xa4Q7m\\x0e\\xa1\\xd2Y2m\\xe3\\xe6\\x88\\xddc\\x9f\\xc4H\\x9e \\xe4\\xee\\x19\\xf9Y\\xf7\\xc3#\"r\\x9a\\xc5\\x81\\xb0\\xd7\\xb7\\xe2\\xf9cB0\\x87\\xab\\xd5\\x15\\x95\\xd8i\\xbeK#*J\\xd2\\xe2d\\xddn&\\x13N\\xa2\\x8a\\xb2\\xdf\\xadc\\x84p$\\xe8\\x9e\\x99\\xd1\\xd5\\xcf\\xfb9\\xc4\\xaf\\x8f7\\xda=\\xde\\xbb\\xab\\x8d\\xbe\\xbaB\\xf6[[\\xc3\\xda\\xe4\\xcaK\\xbd\\xb1\\x1e\\xea\\x8a\\xb3>\\xe9\\xc2d\\xf4\\xdb\\xaa\\xb1\\x07\\xa3vo\\x1aK5BR1\\xce\\xb0\\xdd\\xcaI\\xae\\x8a\\xa9sj\\xa6}\\xa2\\x1c@\\xc5\\xda\\x00\\x00\\x00\\x00\\x00\\x00\\x00\\x00\\x00\\x00\\x00\\x00\\x00\\x1d|\\x7f\\x80p\\x1d@\\x1d\\xac\\xcf\\xca\\x19\\x9f\\x94uN\\xe0p\\xa8\\xf0\\x05C3\\xf2\\x86g\\xe5\\x14\\x85\\x1e\\x0cm\\xa4-\\xf2}H.\\x96~\\xa8\\xd6\\xbb\\xff\\x00+Q\\x8b\\xfd1m\\x82u6\\xd6\\xf4\\x118\\r\\x07\\xec\\x80\\xdf=\\x95\\xfd\\xf1\\xafL\\xc5\\xb8\\xcf\\x82\\xa3,R-\\x1f\\x11g\\x7fm\\x9f\\xaeR#\\xfb8\\xd4\\xf8\\xaa\\xa1\\xd5+RDU\\x11\\x7f\\x08\\x85~\\xd9\\xf2\\x1f\\x9cEB+\\xfb\\x81UT\\x9a\\xd3\\x97\\x0e\\xbf\\xf2\\x0bEy\\x0e\\xf9\\x183~\\xe9!L5\\xa5\\xaf\\x8e\\xa6k\\x19o\\x0b\\t\\x17\\\\h\\xc9o*\\xdd\\xcaz\\xc1\\x0eO3\\x19\\x8f\\xd4\\x17V\\x84\\xd5\\xc5\\x94\\x06\\x93\\x14\\x8b\\xa7n\\xb5v\\x13J\\xa9\\x08\\xf7\\xf3nv\\x12\\xfe\\xdb$|_\\x84}\\x95\\x05\\xdfPU\\xe3^\\x1e\\x16\\xcd\\x9c\\xd2\\x12\\x8b\\x7f\\x066\\xdb\\xd6\\xbdv\\xc7\\xf6\\x06\\x15f\\xf1\\xd4S\\xa6\\xd2\\xb1\\xaemA\\xf4r\\xc9.\\x8a\\xd6x\\x13\\x91Le?\\\\g\\xa3\\x04\\xfbTu\\x07j\\xb4\\xdb\\x89\\xedWXp\\xdb)\\x04\\x11\\xf2\\xca\\x1dL\\x1f\\xbe,JV\\x8f\\xed~\\x92n\\xd5\\xd7\\x95\\xcf\\xdc\\xf3h\\xa7\\xe4\\xc6\\x04\\xbd-;\\xee\\n\\xa9\\xba\\xf6\\x16FV.\\x1cO\\xb9\\xd4_/\\x1a\\x8ck\\xcd\\xcb\\x8d\\x83\\xaa\\x863\\xa3\\x83c\\x19\\xc9\\xb0~\\x80\\xb6+\\x0e\\xc95\\xd6[M\\xc7\\xc1AFO\\xae\\xbd\\xbf\\r{\\xc5\\xa8\\xa7\\xbb\\'\\x83!\\x15[k\\x1f#\\x1f@gd\\xfb\\xd0B\\xbf\\xf9H}2\\xe5\\xa3\\xa8F\\xf6\\xc65n\\xdd\\xbf\\x80E\\x14wyd\\x14{\\xc5\\x97\\x94\\x8b\\x84]\\xdc[W\\x0e\\x10l\\xaf~\\xeeO\\xdcg\\x96|x<|\\x1b\\x07\\xf41\\x88\\xed\\'eJ&\\x9fmcZ^\\xec\\xa7\\xdc\\xd9\\xfc:\\xdc\\xc2-\\x93\\xf6QX[\\xd5\\'e\\x96\\xf2\\xa5\\x1a\\xaf\\x19\\x17w0\\xed\\xdb9J\\xd4\\x16I\\xe3\\xc3\\xb9\\xdd\\x9b\\x97\\xc8I\\x11\\xe3\\xf7x;~\\xca\\xde\\xbe\\xb3\"q\\x9d\\x10\\x9f(\\xc2rt\\xba\\xd4iGM+4\\x06\\xa9+M\\xb7u\\x16\\xebXn\\xe75|\\xefO\\xc1\\x8a\\xd1\\xc41Q\\xfd\\x93})\\xe0cl\\x81\\xa3b\\xe9\\x8c\\x8b;\\xbb\\x98%\\x9c\\xa8\\x97]c\\x8e\\x84\\xa6\\x9d:}\\xd4\\x0e\\x1c:\\xb6\\xb1\\x98\\x8fA\\xc5\\xbc=\\xe7M\\xb3l\\x9a^\\x81\\xce\\xdf\\x1f\\xb6=\\x93K\\xfc\\xb4r\\xba\\t\\x8e\\xac{\\xd27\\x8d>\\xf6\\xe7\\xff\\x0061\\xcc\\x95AO\\xca\\xc7qc\\xaa^ba\\xbb\\x8f\\x03\\xc4.UOc\\x07/\\x190\\x13\\x97\\xd3\\xfd\\xc1\\x10\\xd3\\xd7\\xd9\\xa6uUg\\xbf\\x97\\xddT\\xe4p\\xf7\\x12J\\xaa#T\\xf8?6\\x8a\\xc4\\xf9\\x82\\xc8\\x9b\\x84\\xbc\\xaa\\xa7\\x80\\xd5\\x8d\\xe3\\xda\\xfd\\x1b-\\xe1\\xf7\\xc6I\\xe3\\x9e\\x0e\\xb9\\x0e0\\xb2\\xc7g\\x07:\\xcc\\x18&\\x8d\\xa5YER\\xb0\\x8d\\xda\\xcaOG\\xd2\\xec\\x1bn\\x10FbI\\x16\\xd9)\\x93\\xd3? [\\x0biS\\xa3\\xc5)\"\\xdeL\\xd7\\xdbH.\\xe2=Ne\\x19\\x84\\\\\\xf9\\xa6&\\xe8\\xe7\\xf3\\xc46[w0\\r\\xbb\\xae\\xeb4-\\xfc\\xd3O\\xf5\\xacA\\xdaiF\\xd1X\\xb5{d\\xe6$\\x97\\xfb\\x8d\\x11\"~\\xc1\\x08\\xb0\\x8f\\xa8\\x9a\\xcd\\xca\\xcb\\x7f\\xd2\\xc4\\xbbT}\\x94\\x9d\\x19\\x19\\x97VoP1~\\xe1\\xba\\x9c\\x16$\\x8cs\\xc7$\\xc7\\xf7H}\\\\\\x84\\xfe|c\\x10\\xd4\\xbd\\x95K\\xaa\\xb5\\xd2\\xfa\\xb9\\xabin\\x158l\\xb5\\xa6sd\\xd2\\xea;o\\xb2#\\xdd\\x1a\"\\x95ko\\x0fj\\xd5\\x02\\xff\\x00\\xa5\\xe3\\xff\\x00B\"\\xa8\\x85)\\x14\\xd6\\xcb\\x1d5\\xa0\\xdbw<2\\xcf3=\\x83\\xac\\x7f\\x98\\x1c\\xfc\\xda\\x1c\\xf4\\xf86\\xf9\\xd7e\\xce\\xc8\\x96\\xeb\\x16\\x96\\xa2\\xea\\x07\\x1a\\xc2\\xbd\\xcb$e\\xc9\\xdc\\xb3\\xd3WY9F-\\xbcn\\xc9\\xad{x\\xcd\\xdcFI\\xd1\\xa8/\\x13\"\\xd5\\xcb\\'\\xb1\\xcf%\\xce\\xa3u\\x93Y3\\xa4ldE$z\\x070\\xc4\\xe8R\\xf2\\xcd{\\xe9\\xad1O\\xb7\\xfd\\x8fy\\xfe\\\\U\\xe3a\\xea\\xa7m\\xb5\\xa6\\xb3\\xd1\\xf1\\xfa\\xb7\\x91\\xff\\x00\\xcc\\x16j\\x92\\x17N\\x1e\\x86\\x05F\\x06\\xa1s\\xde\\xcdi\\x89w\\x1f\\x91\\xa1\\xad\\xfd\\xc1\\xe8CC\\xd6\\x15\\x9c\\x16\\x8b\\xb7i\\x05^\\xb5Z>z:\\x05\\xbb%\\xd1[\\x96\\x8ad\\xd8n\\x99\\xfc\\xfc\\x9c\\x91\\x1e\\x97\\x11}\\xf7\\x93ut\\xe2\\x14\\xcc\\x0b\\xb8\\x07\\x0e#\\x9c\\xa8\\xb6\\xb8\\xb4B*\\xb8\\xdbS\\x19\\xf1\\xb9!\\x0f\\x8c\\x84\\xc7\\xe3\\x8c\\xff\\x00\\x07\\xa7\\xc5\\x7f\\xac\\xb7\\x8b\\x9e\\x81\\xa7\\xdc8\\xf2\\xcbcl\\x9f\\xb7\\x80\\xfe\\xc0 \\xe0\\xdfP\\x1a\\x87\\x0f\\xa7\\x870\\xd6\\xa7\\xa3c\\xdb\\xb8\\xb7\\xc33\\x98&Z\\xde\\xa6\\x03\\x9c\\x9e\\xb8\\xca\\xd1\\xdaPQn\\x9b!\\xac\\xc0\\xd4\\r\\xdceo\\xf2c\\x8e\\xe54}rr\\xc1\\x833\\x00\\xb0\\x11\\xbe\\xfb\\xab\\xd5\\x90\\xb5\\xcdP\\xde>\\xd7>\\x05\\xea\\'l\\x7f_\\x19E\\xd0\\xc6\\xa9\\xa5\\xe5[ \\xea.z=\\xc2\\x0e\\x13\\xceC%\\xd97\\xc0*\\xe0\\x00\\x00\\x00\\x00\\x00\\x00\\x03\\xa8q\\xc6t\\xc7k/\\xf2\\x8f\\x8c\\x1f\\x84\\x07H\\xe9\\x8e\\x03\\xb7\\x15L\\x1f\\x845\\x7f\\xc3\\xff\\x00\\x00\\x14\\x15\\x1b\\x8dH\\xd3\\xc6\\xe6\\xefz\\xf7\\xe3i\\x96\\xb4\\x1e\\xae\\xe2\"\\x15\\'+\\xbeg\\x9cD\\xdc,\\xe0\\xf80)\\xbd9\\x08r`\\xfd\\xff\\x00\\x1cn\\xae\\xaf\\xf8\\x7f\\xe08\\x17\\x8bh\\xeb\\xe1M@@\\xadcp\\xf5\\xa5+\\xf6z-\\xc4\\x7f\\xe9\\x8c\\xd6I>\\xb9\\xf6\\x0f\\xd7\\x16S\\xaa\\x1e\\xaai\\xfe\\xeb\\xd6\\x1b\\xfe%\\x1c\\xc1\\xe8\\x15\\xf5\\xdb\\xd1R\\xbf\\n\\x81n\\xe0XS\\xba#\\xe8\\xefP8\\xd6\\xa4\\xee\\xc2>\\xc7\\x1eY\\x1ci\\xa9\\xd7 3\\xe6\\x84\\xfaj\\xacsO\\xd3\\x92\\xf4\\x1dgK\\xb8\\x98\\xa6&\\xb2\\xf5\\xe6y\\xba\\xb3\\x84\\\\#\\xcc\\xbbl\\xb6\\x03\\xe58G\\x19\\xfa\\x07!\\xc8s\\x90\\xfc\\xb1e?\\xa5.\\xfd\\xb3\\x9b\\x1dYXT\\x160\\xb1M\\xca+C\\xb6M\\xc5\\xa9\\xf8\\x98\\xf5\\x9c\\x18\\xc4\\xc0^OcR\\xed\\xaa\\xa7\\\\iwS\\xcb\\xd1\\xeb\\xb8I<\\xf6k3\\xd7Y\\xac\\xa1:{g\"\\xc4?\\xae0\\rU\\xd8\\xe8\\xbf*R\\xd5\\xdc\\xd3\\x10T\\xf5P\\x85\\xbf[\\x8b^\\x11\\xb3\\x8e\\xa3\\xb2\\x10\\x84\\xf5\\x0e\\x03A\\xd0\\xa7.\\xaf\\x81\\x0b\\x1a\\xd9S\\xc8[\\xe4\\xb5\\xc2\\'oP\\x8d\\xcf\\xf3\\xc5C\\xb5\\xbaW\\xed[\\xa5\\x90q\\xfab\\xcf?p\\xe4\\x19\\xd2\\xb5\\xba\\xfa\\xd6\\x80\\xd6;|\\xa0\\xea\\n\\x7f\\xf8\\xe4\\x935\\x9b7\\xf9b\\x13$\\xe2\\xd4R>)\\xdbmkU\\xfe\\xa6\\x8eg\\xef\\x8c\\x05\\x80\\xd5\\xa3[\\x1a\\xf0E\\xd0\\x94\\xfb}_\\xcbj\\xca)\\xfd\\xe0\\xe78\\xaaE\\xb7\\xaa\\xdd\\xdb\\xabF5\\x8f\\x8fB\\xdf\\xbc\\xd9\\xee\\xff\\x00\\xba\\x10^K\\xebz\\xb6\\xab\\xc6\\x9f\\xdf7\\x9e\\xc1\\x0f\\xd4!\\xc7E\\xac~\\xa9\\xac:j\\xd5\\xc3\\x8f.\\xb6\\xa6\\xb7O\\xc7>\\xc7\\xb6\\x0f\\x8by\\xdb:\\xab\\xe0\\xb2\\x95\\x97\\xcbg%\\xd4\\xd6\\x0eB\\x02\\xf4\\x9f\\xfe\\xe8p\\xe1\\xc6W\\x81Y\\x9f\\xee\\x1c\\xe7\\x15\\xb4\\x19\\xba\\xf8S^\\xf7_\\xd4K\\xe6\\x0eg\\xc9\\xbbu\\xf0\\xa7M\\xdcy}\\xf1\\xd5\\xdez\\x04&\\x0e\\xb8&R\\x13\\xa2\\xe2\\xb8\\xb7Zu\\xc6\\x0e7\\xbf\\xc7?\\xd0>#i\\xbaW\\x7f\\xde\\xad\\xdcn\\xbc2\\xc8\\xab\\xe1<\\xf3\\xe3\\x15\\xa2E\\xf7\\xb6\\xaa\\xeb\\xbe<\\x87y\\x93s\\xf8\\xcd\\xb3\\xe0\\x1c\\xeca\\xdd\\xeb:\\xd6\\xaa\\xe3\\xe5\\xb2\\xb9\\x1c\\x8d\\x84\\xb6\\x00Q\\x18\\xb3\\x8ai%\\xde\\xad[\\xb7o\\x9a\\x972\\x8e\\xef\\xfb\"`\\x1d\\xe7i\\xf7\\xcf\\xc1{\\xdfx\\xbf\\xea\\xff\\x00[\\x80T\\x17\\xa6\\xf5\\xa7:\\xd3\\xae\\xf7\\xfc\\xf3\\xcde?l|q]>\\xd5\\xce\\xaa\\xeaz=\\xbf\\xe6Q&`\\x0e\\x07N\\x1a:l\\xdd\\xd3WM\\xfb\\xdb+\\xc4Ky\\xcb\\xe8m\\xf5\\x07;E\\x1d\\xbbm\\xaa\\xf7\\xc3~w}\\xbe\\xcb\\xcb\\x17\\xac\\x1d\\xd3\\xd5U\\x07\\xd8\\x1a\\x0e\\xf0*\\x0f\\xd0\\xe0^e\\xf5\\xc8\\x8e\\x01\\x90\\xa1\\xb4E\\xbf\\xc9b\\xe2\\x8a\\xd1\\xfa\\xa0\\xb6\\xcf-/0\\xd9\\xbf\\\\\\x8e\\x1c\\x10\\xfe\\xc0\"`\\xf6\\xad\\xf5V\\xda\\xab\\xa6\\xad\\xf5}\\xde\\xf9l\\x94\\xbd=\\x81]\\x87M\\xae\\xb3\\xef\\x0c\\xa3\\x7f\\t\\xb9Yc\\xa9\\xe8l%\\xc8\\x1b3Oh\\x11\\xa4A\\xac\\xe1\\xb2\\x06\\xee)\\xfb-\\xfb\\xf5\\xd9\\xdc)\\xfd\\x93c\\x93\\xdb\\x19\\x1a+\\xb1\\xfbz\\x96\\xd9o\\x1ei\\x03\\x11\\x10\\x87\\x06\\xf9\\x18\\x88\\x05\\x14\\xf6\\xce\\xe0\\x9f0\\x06\\xa61\\xa5\\xe5e\\\\\\xebM`\\\\s\\xa9\\xf7\\xe2,\\xd6W\\'\\xfa\\xd9\\xfea\\x0f\\xc8 \\xa8\\xa1K\\xbb\\xd6~\\x0b\\xab\\xee\\xb7\\xeb<Y\\x9co\\xb6Lg\\xf6\\x06\\xe71\\xecs\\xd1N\\xbb\\xb5M\\xf2^\\x04\\xc7\\xe2QY\\x9bd\\xff\\x00\\xc19\\xfd\\xb1uEh\\t\\xa3\\x1c]\\xba\\xd4\\x9d//0\\xb7\\xdd\\x91\\x9f\\x7f\\xfe\\x1aJ\\x90\\x9e\\xc0\\x1dF\\x8d/(\\xd6+\\xbd{ho\\x0e\\xdf\\xcb-<\\xb3\\xef\\xecH\\x8f\\xb1\\x8c|!x\\x94\\x03_xb\\xea\\x88}a\\xcf?\\xc5\\xb0\\xeeu\\x85\\x94\\xf2\\x985\\x8f\\xf5\\x89(\\x85\\xd1\\x8bGz^\\xcdf.\\xe4h\\xfb\\x17\\xf2\\xcbC\\xa2\\xe5N\\xba\\xa49\\xc5\\xff\\x00\\x13\\x0f\\x13\\x02\\xd6\\xc6\\xd01l#\\xdb\\xf9\\x16\\x88\\x11$\\xfd\\x81\\x99\\xcd\\x17LY\\xd5S\\xfa\\xbbh\\x1b\\xaf\\xbd\\x8a\\x83\\xc8-\\xda\\xde\\xef\\xe5\\x8e\\xdf\\x01\\x05\\xeb\\x1ds\\xfaI\\xca\\xb6\\xd5`t}\\xa8\\x1b\\xb7\\xf2\\xd3\\x15\\x81\\x1b\\'\\xf2:\\xc6?`I\\x00\\xa5LJ\\xc6\\xc0\\xc6\\xbd\\x94\\x93xV\\xec#\\x92Q\\xc3\\x85\\x96T\\xa9\\xd8\\x92D\\xdb9\\xcdi\\xfa\\x04(\\x1c\\xda\\x93B\\xdd\\x1e\\x9bp\\x1c_\\x19\\x19;C\\xd2\\x11-U\\xe1\\xb1\\x14d\\x9e=\\xd8\\xc7\\x88\\xdb\\x9c\\x9c\\x06\\xeb\\x8d\\xc5m\\xadj\\xb6k\\x1c\\x19\\xd9;\\xee\\x0f\\x1cPik\\xc0\\xa5kX^>\\xa5\\xe7\\x98H0\\xcdQ\\x0c\\xe4V\\xcd\\xde\\x13\\x94M\\x91\\\\A\\xc6\\xb6\\xdbZ\\x06\\x0e\\xc0\\x00\\x00\\x00\\x00\\x00\\x00\\x00\\x00\\x00\\x00\\x00\\x00\\x00\\x00\\x00\\x00\\x00\\xe28\\xc5U\\xc6\\x8a\\xfa<W\\xf68wT],\\x06\\xb0\\xe2\\xcd\\xfb\\xc8\\xd4N\\xc9\\xc5\\xbf\\xaeo\\x80\\xe7\\x19h\\x00ime\\xd8\\xcd\\xa2\\xe5-Y\\xd5\\x07x\\xb5\\x04\\x03\\x8by\\x94d\\x90JI\\xba>\\x872\\x7fl\\xe3\\x07\\xd5\\x1d\\x8e]\"\\x19\\xc8\\xe2\\x8c\\x94\\xa4\\'\\xd8pp\\xe6\\xf1\\x92\\xcd\\xd5\\xf5\\xd3U\\x1c\\x05\\xeb\\x89B\\x00\\x11\\x81\\r\\xd8\\xf1\\xd2\\x1e\\xdf\\xad\\x19C\\xc4Y\\xf7^L-\\xf3\\x11D\\xe2\\xf9\\x8b\\xecg\\xde\\x0b\\xb2\\xdbl\\xe5\\xec\\xd2\\xf0\\xf6\\xff\\x00\\x05\\x91\\xd0K=\\xff\\x00\\x15dD\\x83\\x00\\x1dF\\x9a\\xc3\\xf65(\\xae\\x0e\\x1a\\x9e\\xf6\\xaa\\x89\\x0f\\xe4\\xd4\\x19\\xb2O\\xdb\"\\xc2\\xf5\\x8e\\xec}\\xe8\\xda\\xd6\\xce\\tH\\x1a\\x82~\\xdf\\xbb#<\\xf1?a\\xb9\\xd1 \\xd9P\\x01\\x89a\\xb4S\\xd1\\xb2\\x9e\\xfb\\x1br\\x94\\xbd\\xb6\\xb7\\xf0\\xaf#H\\xf5O\\xe6;\\x8cc!\\xc3\\xd2\\xd4\\xa5=\\xc2\\xde\\x97\\xa5\\xe2!\\xff\\x00\\x036h\\xb6\\xf9\\x84\\x1c\\x8f\\x9d\\xbako\\x0bX\\xb7.-\\xf2\\xc8\\xda\\x8f\\xef\\x9f\\x18\\xa2\\xbb\\xac\\x1d5\\xf8T[\\x8dc+\\x99E\\x9a\\xce~a\\x00]\\x99\\x83\\xf4X]\\xb8O\\xbb\\xfb\\x17K\\xd4\\x0e?c\\xd5\\xbf\\xcc`\\x0c\\xca\\xfd\\xd7\\xc1iv\\xed\\xff\\x00\\x94\\xa6>\\x88\\x87\\x01|(\\xa0\\xe1RA\\xaf\\xdfB\\xcf%1x\\x0e\\x8b\\xc2\\xear\\x02>\\xdf\\xb8\\x8b5\\x9c\\xdb\\xd79\\xc9\\xf3\\x07:t\\x04\\xab\\xbb8d\\xeb\\xb9\\x8f\\xd9\\x11l\\x92\\x7f0\\xe7\\xf6\\xc0\\\\\\xa7\\x98j)\\xef\\xab\\x08\\xa8\\xaf\\x85:n\\xdf\\xf3\\xcb\\x10t\\x13\\xbb:[\\x83\\xbe\\xec\\x97\\x90\\xb7\\xf8\\xe4\\x9b\\x95}\\x8cx\\x07y\\xa5\\x0fJ\\xc5[\\xad5\\xa6!\\xdb\\xb8\\xf2\\xda\\x993:\\xe0(\\xaa^\\xa5+\\xf6\\xac\\xa3w\\x1f\\xa1\\xe3r\\xa7\\xb0\\x1d\\xbaO\\xba\\xfb\\x17K\\xd4\\x0e?\\xf8\\xdd[\\xfc\\xc6\\x01z\\xa6\\x98\\xe5\\x01bZ\\xf6\\xbf\\x94\\xb3\\x85\\xad/\\xab\\xff\\x00)I\\x11?\\xf0q\\x8e\\x94\\xc5!ZT\\x10\\x92\\x11ne\"!\\xf8\\xc5\\xaa\\x8c\\xb7,\\xce\\xf9Dq\\xa7\\x87\\xc2\\xe0!\\xfdr`\\x19 \\x00b\\xcb\\xb9\\xb9\\xae\\xd0`\\xdb\\xc0\\xb8\\xbcZ\\x82cz\\xa2\\xeb,\\xba,\\xda\\xe7c\\xfc\\r\\xd1!\\x08^\\x0c\\x04\\xd8\\x19-\\x06\\xfa\\xabmU\\xa8\\xec\\x00\\x00\\x00\\x00\\x00\\x00\\x00\\x00\\x00\\x00\\x00\\x00\\x00\\x00\\x00\\x00\\x00\\x00\\x00\\x00\\x00\\x00\\x00\\x00\\x00\\x00\\x00\\x00\\x00\\x00\\x00\\x00\\x00\\x00\\x00\\x00\\x00\\x00\\x00\\x00\\x00\\x00\\x00\\x00\\x00\\x00\\x00\\x00\\x00\\x00\\x00\\x00\\x00\\x00\\x00\\x00\\x00\\x00\\x00\\x00\\x00\\x00\\x00\\x00\\x00\\x00\\x00\\x00\\x00\\x00\\x00\\x00\\x00\\x00\\x00\\x00\\x00\\x00\\x00\\x00\\x00\\x00\\x00\\x00\\x00\\x00\\x00\\x00\\x00\\x00\\x00\\x00\\x00\\x00\\x00\\x00\\x0f\\xff\\xd9'}"
            ]
          },
          "metadata": {},
          "execution_count": 74
        }
      ]
    },
    {
      "cell_type": "code",
      "source": [
        "import cv2 as cv"
      ],
      "metadata": {
        "id": "3I_IyposoIrL"
      },
      "execution_count": 77,
      "outputs": []
    },
    {
      "cell_type": "code",
      "source": [
        "img=cv.imread('laptop.jpeg',0)"
      ],
      "metadata": {
        "id": "scXs2dmspYFI"
      },
      "execution_count": 84,
      "outputs": []
    },
    {
      "cell_type": "code",
      "source": [
        "import matplotlib.pyplot as plt\n"
      ],
      "metadata": {
        "id": "XjciO4bcpp5w"
      },
      "execution_count": 79,
      "outputs": []
    },
    {
      "cell_type": "code",
      "source": [
        "plt.imshow(img)"
      ],
      "metadata": {
        "id": "9jJI-YQUqFFg",
        "outputId": "36cea74f-a091-47fe-a2f1-a127f995b5ec",
        "colab": {
          "base_uri": "https://localhost:8080/",
          "height": 284
        }
      },
      "execution_count": 85,
      "outputs": [
        {
          "output_type": "execute_result",
          "data": {
            "text/plain": [
              "<matplotlib.image.AxesImage at 0x7f0ada6d3850>"
            ]
          },
          "metadata": {},
          "execution_count": 85
        },
        {
          "output_type": "display_data",
          "data": {
            "image/png": "[encoded data removed]",
            "text/plain": [
              "<Figure size 432x288 with 1 Axes>"
            ]
          },
          "metadata": {
            "needs_background": "light"
          }
        }
      ]
    },
    {
      "cell_type": "code",
      "source": [
        ""
      ],
      "metadata": {
        "id": "-AImL1n_qNut"
      },
      "execution_count": null,
      "outputs": []
    }
  ]
}